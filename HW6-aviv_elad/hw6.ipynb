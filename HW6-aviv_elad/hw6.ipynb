{
 "cells": [
  {
   "cell_type": "code",
   "execution_count": 1,
   "id": "8bd64d0c-32a3-402e-b063-07ea458afced",
   "metadata": {},
   "outputs": [],
   "source": [
    "import pandas as pd\n",
    "import numpy as np\n",
    "from sklearn.model_selection import train_test_split\n",
    "from sklearn.ensemble import HistGradientBoostingRegressor\n",
    "from sklearn.ensemble import RandomForestRegressor\n",
    "from sklearn.metrics import mean_squared_error\n",
    "from sklearn.preprocessing import OneHotEncoder\n",
    "import re\n",
    "from sklearn.model_selection import cross_val_score, KFold\n",
    "from sklearn.metrics import make_scorer\n",
    "from fuzzywuzzy import fuzz\n",
    "import string\n",
    "import xgboost as xgb\n",
    "from xgboost import cv, XGBRegressor"
   ]
  },
  {
   "cell_type": "code",
   "execution_count": 2,
   "id": "9d7cf113-6c14-4526-88a6-8ad973bfab33",
   "metadata": {},
   "outputs": [],
   "source": [
    "shoes_train = pd.read_csv('data/shoes_train.csv')\n",
    "shoes_test = pd.read_csv('data/shoes_test.csv')"
   ]
  },
  {
   "cell_type": "code",
   "execution_count": 3,
   "id": "f67bdef8-f0f0-4dd4-9472-f81505cfa664",
   "metadata": {},
   "outputs": [],
   "source": [
    "def group_similar_values(data, threshold=80):\n",
    "    grouped_brands = {}\n",
    "    \n",
    "    for brand in data:\n",
    "        matched = False\n",
    "        \n",
    "        # Check if the brand is similar to any existing group\n",
    "        for group in grouped_brands:\n",
    "            similarity = fuzz.token_sort_ratio(brand, group)\n",
    "            \n",
    "            # If similarity is above the threshold, add brand to the group\n",
    "            if similarity >= threshold:\n",
    "                grouped_brands[group].append(brand)\n",
    "                matched = True\n",
    "                break\n",
    "        \n",
    "        # If the brand doesn't match any existing group, create a new group\n",
    "        if not matched:\n",
    "            grouped_brands[brand] = [brand]\n",
    "    \n",
    "    return grouped_brands"
   ]
  },
  {
   "cell_type": "code",
   "execution_count": 4,
   "id": "b3a0fa31-a4d7-4512-971a-d44e920c6945",
   "metadata": {},
   "outputs": [],
   "source": [
    "# brand\n",
    "shoes_train['brand'].fillna('unbranded',inplace=True)\n",
    "shoes_train['brand'] = shoes_train['brand'].map(str.lower)\n",
    "shoes_train['brand'] = shoes_train['brand'].map(lambda x: 'unbranded' if x=='non' else x)\n",
    "data = list(shoes_train['brand'])\n",
    "grouped_brands = group_similar_values(data)\n",
    "for group in grouped_brands:\n",
    "    grouped_brands[group] = set(grouped_brands[group])"
   ]
  },
  {
   "cell_type": "code",
   "execution_count": 5,
   "id": "93ca63b3-6bde-4dfc-9c12-77eb8b93dd4c",
   "metadata": {},
   "outputs": [],
   "source": [
    "# style\n",
    "shoes_train['style'].fillna('unstyle',inplace=True)\n",
    "shoes_train['style'] = shoes_train['style'].map(str.lower)\n",
    "shoes_train['style'] = shoes_train['style'].map(lambda x: 'pump' if x=='pumps, classics' else x)\n",
    "shoes_train['style'] = shoes_train['style'].map(lambda x: 'ballet' if x=='ballet flats' else x)\n",
    "shoes_train['style'] = shoes_train['style'].map(lambda x: 'loafers' if x=='loafers, moccasins' or x=='loafers & moccasins' or x=='moccasins' else x)\n",
    "data = list(shoes_train['style'])\n",
    "grouped_styles = group_similar_values(data)\n",
    "for group in grouped_styles:\n",
    "    grouped_styles[group] = set(grouped_styles[group])"
   ]
  },
  {
   "cell_type": "code",
   "execution_count": 6,
   "id": "6fb4a005-5386-4bbb-a94e-f6de1b42bb9d",
   "metadata": {},
   "outputs": [],
   "source": [
    "# material\n",
    "shoes_train['material'].fillna('unmaterial',inplace=True)\n",
    "shoes_train['material'] = shoes_train['material'].map(str.lower)\n",
    "data = list(shoes_train['material'])\n",
    "grouped_materials = group_similar_values(data)\n",
    "for group in grouped_materials:\n",
    "    grouped_materials[group] = set(grouped_materials[group])"
   ]
  },
  {
   "cell_type": "code",
   "execution_count": 7,
   "id": "214decc2-f809-472e-bd8e-0879a95d95e3",
   "metadata": {},
   "outputs": [],
   "source": [
    "# color\n",
    "shoes_train['color'] = shoes_train['color'].fillna(shoes_train['colour']).fillna(shoes_train['main_colour'])\n",
    "shoes_train['color'].fillna('uncolor',inplace=True)\n",
    "shoes_train['color'] = shoes_train['color'].map(str.lower)\n",
    "shoes_train['color'] = shoes_train['color'].map(lambda x: 'uncolor' if x=='does not apply' else x)\n",
    "data = list(shoes_train['color'])\n",
    "grouped_colors = group_similar_values(data)\n",
    "for group in grouped_colors:\n",
    "    grouped_colors[group] = set(grouped_colors[group])"
   ]
  },
  {
   "cell_type": "code",
   "execution_count": 8,
   "id": "720c0505-2c35-4403-896e-1e43f132fe24",
   "metadata": {},
   "outputs": [
    {
     "data": {
      "text/plain": [
       "Unnamed: 0                        0.000000\n",
       "id                                0.000000\n",
       "title                             0.000000\n",
       "price                             0.000000\n",
       "brand                             0.000000\n",
       "style                             0.000000\n",
       "heel_type                        90.285714\n",
       "heel_height                      61.628571\n",
       "width                            79.228571\n",
       "shoe_width                       84.014286\n",
       "material                          0.000000\n",
       "occasion                         87.821429\n",
       "country_region_of_manufacture    84.107143\n",
       "lining_material                  98.864286\n",
       "upper_material                   79.457143\n",
       "shoe_size                        97.607143\n",
       "toe_shape                        88.285714\n",
       "model                            83.542857\n",
       "year_of_manufacture              99.000000\n",
       "size                             79.578571\n",
       "colour                           82.814286\n",
       "color                             0.000000\n",
       "main_colour                      93.207143\n",
       "lining                           98.985714\n",
       "sole                             97.592857\n",
       "vintage                          94.078571\n",
       "closure                          97.564286\n",
       "pattern                          82.121429\n",
       "theme                            94.514286\n",
       "fastening                        91.014286\n",
       "platform_height                  99.571429\n",
       "location                          4.642857\n",
       "n_sold                           99.835714\n",
       "n_watchers                       97.928571\n",
       "free_shipping                     4.585714\n",
       "longtime_member                   4.585714\n",
       "same_day_shipping                 4.585714\n",
       "fast_safe_shipping                4.585714\n",
       "returns                           4.585714\n",
       "feedback                          4.585714\n",
       "condition                         4.542857\n",
       "seller_notes                     75.371429\n",
       "category                          0.000000\n",
       "dtype: float64"
      ]
     },
     "execution_count": 8,
     "metadata": {},
     "output_type": "execute_result"
    }
   ],
   "source": [
    "# percent missing values\n",
    "percent_missing = shoes_train.isnull().sum() * 100 / len(shoes_train)\n",
    "percent_missing"
   ]
  },
  {
   "cell_type": "code",
   "execution_count": 9,
   "id": "20f361b8-940d-4440-b314-765152dc10ae",
   "metadata": {},
   "outputs": [],
   "source": [
    "# Removing unnecessary columns/// or with really high missing values\n",
    "def func1(df):\n",
    "    df.drop(['heel_type', 'width','shoe_width','shoe_size','size','year_of_manufacture',\n",
    "                     'lining','sole','platform_height','n_sold','n_watchers'], axis=1, inplace=True)\n",
    "    return df"
   ]
  },
  {
   "cell_type": "code",
   "execution_count": 10,
   "id": "37ed0a7f-9a95-498a-bc9c-c0b1773abb64",
   "metadata": {},
   "outputs": [],
   "source": [
    "def better_name(df, col_name):\n",
    "    df[col_name] = df[col_name].map(lambda x: str(x).translate(str.maketrans('', '', string.punctuation)))\n",
    "    return(df)"
   ]
  },
  {
   "cell_type": "code",
   "execution_count": 11,
   "id": "618d18b6-ed47-461e-9622-ae9745cbdbac",
   "metadata": {},
   "outputs": [],
   "source": [
    "def value_grouped(value, grouped_values):\n",
    "    for group in grouped_values:\n",
    "        if value in grouped_values[group]:\n",
    "            return group\n",
    "\n",
    "def replace_ampersand(string):\n",
    "    if '&' in string:\n",
    "        # print(string)\n",
    "        result = string.replace(' ', '')\n",
    "        result = result.replace('&', ' and ')\n",
    "        # print(result)\n",
    "        return result\n",
    "    else:\n",
    "        return string\n",
    "    \n",
    "def replace_dot(string):\n",
    "    if '.' in string:\n",
    "        # print(string)\n",
    "        result = string.replace(' ', '')\n",
    "        result = result.replace('.', '')\n",
    "        # print(result)\n",
    "        return result\n",
    "    else:\n",
    "        return string\n",
    "    \n",
    "def get_brand_from_title(row, brands1):\n",
    "    if row['brand'] == 'unbranded':\n",
    "        for brand in brands1:\n",
    "            if (brand in row['title']) and len(brand) > 1 and brand != 'on':\n",
    "                    return brand\n",
    "        return 'unbranded'\n",
    "    else:\n",
    "        return row['brand']"
   ]
  },
  {
   "cell_type": "code",
   "execution_count": 12,
   "id": "837293a2-dcf3-4f5a-9fdc-7177c6210282",
   "metadata": {},
   "outputs": [],
   "source": [
    "# brand 2\n",
    "def brand_func2(df, p1, p2, grouped_brands):\n",
    "    df['brand'].fillna('unbranded',inplace=True)\n",
    "    df['brand'] = df['brand'].map(str.lower)\n",
    "    df['brand'] = df['brand'].map(lambda x: 'unbranded' if x=='non' else x)\n",
    "    # data = list(shoes_train['brand'])\n",
    "    # grouped_brands = group_similar_values(data)\n",
    "    df['brand'] = df['brand'].apply(value_grouped, args=(grouped_brands,))\n",
    "    df['title'] = df['title'].map(str.lower)\n",
    "\n",
    "    brands1 = list(df['brand'].value_counts().head(p1).index)\n",
    "    brands2 = ['demonia', 'mocassino', 'sanuk', 'damen', 'pin up', 'pleaser', \n",
    "                   'christian loubutin', 'laurent', 'blahnik', 'vuitton', 'orthaheel']\n",
    "    brands1.extend(brands2)\n",
    "    df['brand'] = df.apply(get_brand_from_title,args=(brands1,), axis=1)\n",
    "    # df['brand'] = df['brand'].apply(value_grouped, args=(grouped_brands,))\n",
    "    top_shoes_brands = list(df['brand'].value_counts().head(p2).index)\n",
    "    df['brand'] = df['brand'].map(lambda x: x if x in top_shoes_brands else 'unbranded')\n",
    "    return df"
   ]
  },
  {
   "cell_type": "code",
   "execution_count": 13,
   "id": "d77bfa4b-be96-442a-8898-5f9047de2df8",
   "metadata": {},
   "outputs": [],
   "source": [
    "# style\n",
    "def style_func(df, head, grouped_styles):\n",
    "    # better_name(df, \"style\")\n",
    "    df['style'].fillna('unstyle',inplace=True)\n",
    "    df['style'] = df['style'].map(str.lower)\n",
    "    df['style'] = df['style'].map(lambda x: 'pump' if x=='pumps, classics' else x)\n",
    "    df['style'] = df['style'].map(lambda x: 'ballet' if x=='ballet flats' else x)\n",
    "    df['style'] = df['style'].map(lambda x: 'loafers' if x=='loafers, moccasins' or x=='loafers & moccasins' or x=='moccasins' else x)\n",
    "    # data = list(shoes_train['style'])\n",
    "    # grouped_brands = group_similar_values(data)\n",
    "    df['style'] = df['style'].apply(value_grouped, args=(grouped_styles,))\n",
    "    top_shoes_styles = list(df['style'].value_counts().head(head).index)\n",
    "    df['style'] = df['style'].map(lambda x: x if x in top_shoes_styles else 'unstyle')\n",
    "    return df"
   ]
  },
  {
   "cell_type": "code",
   "execution_count": 14,
   "id": "67e4c93d-40ee-43b8-85b6-9b33d7a4bf18",
   "metadata": {},
   "outputs": [],
   "source": [
    "# heel height\n",
    "def heel_height_func(df):\n",
    "    better_name(df, 'heel_height')\n",
    "    def heel_height(text):\n",
    "        if 'flat' in text:\n",
    "            return 'flat'\n",
    "        elif 'low' in text:\n",
    "            return 'low'\n",
    "        elif 'mid' in text or 'med' in text:\n",
    "            return 'mid'\n",
    "        elif 'high' in text:\n",
    "            return 'high'\n",
    "        return 'unheight'\n",
    "    df['heel_height'].fillna('unheight',inplace=True)\n",
    "    df['heel_height'] = df['heel_height'].map(str.lower)\n",
    "    df['heel_height'] = df['heel_height'].map(lambda x: re.sub('[^A-Za-z0-9 ]+', '', x))\n",
    "    df['heel_height'] = df['heel_height'].apply(heel_height)\n",
    "    return df"
   ]
  },
  {
   "cell_type": "code",
   "execution_count": 15,
   "id": "5978e5be-4a9b-4fd4-bd97-aa1ef8deabf9",
   "metadata": {},
   "outputs": [],
   "source": [
    "# material\n",
    "def material_func(df, head, grouped_materials):\n",
    "    # better_name(df, 'material')\n",
    "    df['material'] = df['material'].fillna(df['lining_material']).fillna(df['upper_material'])\n",
    "    df.drop(['lining_material', 'upper_material'], axis=1, inplace=True)\n",
    "    df['material'].fillna('unmaterial',inplace=True)\n",
    "    df['material'] = df['material'].map(str.lower)\n",
    "    # data = list(shoes_train['material'])\n",
    "    # grouped_materials = group_similar_values(data)\n",
    "    df['material'] = df['material'].apply(value_grouped, args=(grouped_materials,))\n",
    "    top_shoes_materials = list(df['material'].value_counts().head(head).index) #top10\n",
    "    df['material'] = df['material'].map(lambda x: x if x in top_shoes_materials else 'unmaterial')\n",
    "    return df"
   ]
  },
  {
   "cell_type": "code",
   "execution_count": 16,
   "id": "baf816c5-1d60-4340-b1ed-f58653e8bcca",
   "metadata": {},
   "outputs": [],
   "source": [
    "# color\n",
    "def color_func(df, head, grouped_colors):\n",
    "    # better_name(df, 'color')\n",
    "    df['color'] = df['color'].fillna(df['colour']).fillna(df['main_colour'])\n",
    "    df.drop(['colour', 'main_colour'], axis=1, inplace=True)\n",
    "    df['color'].fillna('uncolor',inplace=True)\n",
    "    df['color'] = df['color'].map(str.lower)\n",
    "    df['color'] = df['color'].map(lambda x: 'uncolor' if x=='does not apply' or x=='see picture' else x)\n",
    "    df['color'] = df['color'].apply(value_grouped, args=(grouped_colors,))\n",
    "    top_shoes_colors = list(df['color'].value_counts().head(head).index)\n",
    "    df['color'] = df['color'].map(lambda x: x if x in top_shoes_colors else 'uncolor')\n",
    "    return df"
   ]
  },
  {
   "cell_type": "code",
   "execution_count": 17,
   "id": "9c328b34-6d15-4dcd-8b6b-76aeb5406620",
   "metadata": {},
   "outputs": [],
   "source": [
    "# condiiton + category\n",
    "def condition_category_func(df):\n",
    "    better_name(df, 'condition')\n",
    "    better_name(df, 'category')\n",
    "    df['condition'].fillna('uncondition',inplace=True)\n",
    "    df['category'].fillna('uncategory',inplace=True)\n",
    "    return df"
   ]
  },
  {
   "cell_type": "code",
   "execution_count": 18,
   "id": "7ddef942-1fb9-4fa8-afc1-00024b1fc3d8",
   "metadata": {},
   "outputs": [],
   "source": [
    "# vintage\n",
    "def vintage_func(df):\n",
    "    better_name(df, 'vintage')\n",
    "    def vintage(text):\n",
    "        no = ['No','Nein','Not','Non']\n",
    "        yes = ['Yes','Ja','Sì']\n",
    "        if text in no:\n",
    "            return 'no'\n",
    "        elif text in yes:\n",
    "            return 'yes'\n",
    "        return 'unvivntage'\n",
    "    df['vintage'] = df['vintage'].apply(vintage)\n",
    "    return df"
   ]
  },
  {
   "cell_type": "code",
   "execution_count": 19,
   "id": "d4102936-bdca-41f9-a4e9-8d03717f90cd",
   "metadata": {},
   "outputs": [],
   "source": [
    "# occasion\n",
    "def occasion_func(df):\n",
    "    def occasion(text):\n",
    "        if 'casual' in text:\n",
    "            return 'casual'\n",
    "        elif 'party' in text or 'cocktail' in text or 'clubwaer' in text:\n",
    "            return 'party'\n",
    "        elif 'work' in text:\n",
    "            return 'work'\n",
    "        elif 'all' in text or 'any' in text or 'versatile' in text or 'various' in text or 'everyday' in text:\n",
    "            return 'all'\n",
    "        elif 'wedding' in text:\n",
    "            return 'wedding'\n",
    "        return 'unoccasion'\n",
    "    df['occasion'].fillna('unoccasion',inplace=True)\n",
    "    df['occasion'] = df['occasion'].map(str.lower)\n",
    "    df['occasion'] = df['occasion'].map(lambda x: re.sub('[^a-z0-9 ]+', ' ', x))\n",
    "    df['occasion'] = df['occasion'].apply(occasion)\n",
    "    return df"
   ]
  },
  {
   "cell_type": "code",
   "execution_count": 20,
   "id": "3387a0ab-71d0-4c2a-afdf-9a3dd29d9cac",
   "metadata": {},
   "outputs": [],
   "source": [
    "# location\n",
    "def location_func(df):\n",
    "    better_name(df, 'location')\n",
    "    def location(text):\n",
    "        if 'japan' in text:\n",
    "            return 'japan'\n",
    "        elif 'united kingdom' in text:\n",
    "            return 'uk'\n",
    "        elif 'united states' in text:\n",
    "            return 'usa'\n",
    "        elif 'germany' in text:\n",
    "            return 'germany'\n",
    "        elif 'poland' in text:\n",
    "            return 'poland'\n",
    "        elif 'china' in text:\n",
    "            return 'china'\n",
    "        elif 'italy' in text:\n",
    "            return 'italy'\n",
    "        elif 'france' in text:\n",
    "            return 'france'\n",
    "        elif 'australia' in text:\n",
    "            return 'australia'\n",
    "        return 'unlocation'\n",
    "    df['location'].fillna('unlocation',inplace=True)\n",
    "    df['location'] = df['location'].map(str.lower)\n",
    "    df['location'] = df['location'].apply(location)\n",
    "    return df\n"
   ]
  },
  {
   "cell_type": "code",
   "execution_count": 21,
   "id": "40551ced-9955-4fa1-802b-a9a636a68167",
   "metadata": {},
   "outputs": [],
   "source": [
    "# country_region_of_manufacture\n",
    "def country_region_of_manufacture_func(df):\n",
    "    better_name(df, 'country_region_of_manufacture')\n",
    "    df['country_region_of_manufacture'].fillna('unknown',inplace=True)\n",
    "    df['country_region_of_manufacture'] = df['country_region_of_manufacture'].map(str.lower)\n",
    "    top_shoes_regions = list(df['country_region_of_manufacture'].value_counts().head(10).index)\n",
    "    df['country_region_of_manufacture'] = df['country_region_of_manufacture'].map(lambda x: x if x in top_shoes_regions else 'unknown')\n",
    "    return df"
   ]
  },
  {
   "cell_type": "code",
   "execution_count": 22,
   "id": "ac1da533-46d4-4815-a984-3e53a5baae88",
   "metadata": {},
   "outputs": [],
   "source": [
    "# title + seller_notes\n",
    "def title_seller_notes_func(df):\n",
    "    df['title'].fillna('untitle',inplace=True)\n",
    "    df['seller_notes'].fillna('unseller_notes',inplace=True)\n",
    "    df['title'] = df['title'].map(lambda x: str.lower(x) if type(x)==str else '')\n",
    "    df['seller_notes'] = df['seller_notes'].map(lambda x: str.lower(x) if type(x)==str else '')\n",
    "    def title_seller_notes(row):\n",
    "        pos = ['new','good','great']\n",
    "        neg = ['used','preowned','wear','scuffs','scrathces']\n",
    "        x = 0\n",
    "        if 'new' in row['title']:\n",
    "            x += 1\n",
    "        if 'new' in row['seller_notes']:\n",
    "            x += 1\n",
    "        for word1 in neg:\n",
    "            for word2 in neg:\n",
    "                if word1 in row['title'] and word2 in row['seller_notes']:\n",
    "                    x -= 2\n",
    "                if word1 in row['title'] != word2 in row['seller_notes']:\n",
    "                    x -= 1\n",
    "        return x\n",
    "    df['title_seller_notes_score'] = df.apply(title_seller_notes,axis=1)\n",
    "    df['title_seller_notes_score'].value_counts()\n",
    "    return df"
   ]
  },
  {
   "cell_type": "code",
   "execution_count": 23,
   "id": "b9191c12-77f1-4083-b05b-5c6135e6020a",
   "metadata": {},
   "outputs": [],
   "source": [
    "def func2(df):\n",
    "    df.drop(['title','toe_shape','model','closure','pattern','theme','fastening','seller_notes',\n",
    "            'Unnamed: 0'],axis=1,inplace=True)\n",
    "    df.fillna(0,inplace=True)\n",
    "    return df"
   ]
  },
  {
   "cell_type": "code",
   "execution_count": 24,
   "id": "3e5a3aa1-244f-4eb3-b3c9-f9e014a5e712",
   "metadata": {},
   "outputs": [],
   "source": [
    "def clear_data(df, p1, p2, style, material, color, grouped_brands, grouped_styles, grouped_materials, grouped_colors):\n",
    "    df1 = func1(df)\n",
    "    df2 = brand_func2(df1, p1, p2, grouped_brands)\n",
    "    df3 = style_func(df2,style, grouped_styles)\n",
    "    df4 = heel_height_func(df3)\n",
    "    df5 = material_func(df4,material, grouped_materials)\n",
    "    df6 = color_func(df5,color, grouped_colors)\n",
    "    df7 = condition_category_func(df6)\n",
    "    df8 = vintage_func(df7)\n",
    "    df9 = occasion_func(df8)\n",
    "    df10 = location_func(df9)\n",
    "    df11 = country_region_of_manufacture_func(df10)\n",
    "    df12 = title_seller_notes_func(df11)\n",
    "    df13 = func2(df12)\n",
    "    return df13"
   ]
  },
  {
   "cell_type": "markdown",
   "id": "8eb896ca-1dab-414c-8d0f-b51ed1d3bcf0",
   "metadata": {},
   "source": [
    "# Model assesment for us"
   ]
  },
  {
   "cell_type": "markdown",
   "id": "ac95510c-c882-41af-9b5c-a0361087ba78",
   "metadata": {},
   "source": [
    "## CV"
   ]
  },
  {
   "cell_type": "code",
   "execution_count": 25,
   "id": "c76170bc-528a-4ea7-a68a-3e6960bd74bb",
   "metadata": {},
   "outputs": [],
   "source": [
    "def get_ohe(df):\n",
    "    temp_df = pd.DataFrame(data=ohe.transform(df[['brand','style','heel_height','material','occasion','country_region_of_manufacture',\n",
    "                                                  'color','vintage','location','condition','category']]), columns=ohe.get_feature_names_out())\n",
    "    df.drop(columns=['brand','style','heel_height','material','occasion','country_region_of_manufacture',\n",
    "                                                  'color','vintage','location','condition','category'], axis=1, inplace=True)\n",
    "    df = pd.concat([df.reset_index(drop=True), temp_df], axis=1)\n",
    "    return df"
   ]
  },
  {
   "cell_type": "code",
   "execution_count": 26,
   "id": "f589ae29-56d9-45d8-b724-6b58c4bfdfe3",
   "metadata": {},
   "outputs": [],
   "source": [
    "#### DONT RUN THIS BLOCK - VERY LONG CV ####\n",
    "\n",
    "# performance_metrics = {}\n",
    "# x_range = [50, 75, 100, 125, 150, 175, 200]\n",
    "# y_range = [0, 10, 25, 50, 75]\n",
    "# params = {\n",
    "#     'objective': 'reg:squarederror',\n",
    "#     'eval_metric': 'rmse'\n",
    "# }\n",
    "# num_rounds = 150\n",
    "# shoes_train = pd.read_csv('shoes_train.csv')\n",
    "# kf = KFold(n_splits=5, random_state=42, shuffle=True)\n",
    "# shoes_train['price'] = shoes_train['price'].apply(np.log)\n",
    "# ohe = OneHotEncoder(sparse=False, handle_unknown='ignore')\n",
    "# mse = make_scorer(mean_squared_error)\n",
    "# for p1 in x_range:\n",
    "#     for p2 in x_range:\n",
    "#         for style in y_range:\n",
    "#             for material in y_range:\n",
    "#                 for color in y_range:\n",
    "#                     shoes_train1 = shoes_train.copy()\n",
    "#                     df = clear_data(shoes_train1, p1,p2,style,material,color, grouped_brands, grouped_styles, grouped_materials,grouped_colors)\n",
    "                    \n",
    "#                     X = df.loc[:,df.columns != 'price']\n",
    "#                     y = df['price']\n",
    "                    \n",
    "#                     X_train, X_test, y_train, y_test = train_test_split(X, y, test_size=0.2, random_state=42)\n",
    "\n",
    "\n",
    "#                     ohe.fit(X_train[['brand','style','heel_height','material','occasion','country_region_of_manufacture',\n",
    "#                                                   'color','vintage','location','condition','category']])\n",
    "                    \n",
    "#                     X_train = get_ohe(X_train)\n",
    "#                     X_test = get_ohe(X_test)\n",
    "                    \n",
    "#                     xgb = XGBRegressor(n_jobs = -1,random_state=42)\n",
    "                    \n",
    "#                     scores = cross_val_score(xgb, X_train, y_train, cv=kf, scoring=mse, error_score='raise')\n",
    "\n",
    "#                     name = f\"{p1}_{p2}_{style}_{material}_{color}\"\n",
    "#                     avg_score = np.sqrt(np.mean(scores))\n",
    "#                     print(f\"{name}__{avg_score}\")                                       \n",
    "#                     performance_metrics[name] = avg_score"
   ]
  },
  {
   "cell_type": "markdown",
   "id": "672474f4-3d55-40eb-98f6-7c950578764c",
   "metadata": {},
   "source": [
    "### The best rmse mean from above:\n",
    "#### 175_200_50_10_0 -> 0.499\n",
    "#### 200_200_75_10_15 -> 0.5004\n",
    "#### 125_200_75_10_10 -> 0.5008\n",
    "#### 175_200_75_75_25 -> 0.5011"
   ]
  },
  {
   "cell_type": "code",
   "execution_count": 33,
   "id": "27f4e58c-6faf-4844-9e69-fbaa73f79f88",
   "metadata": {},
   "outputs": [],
   "source": [
    "shoes_train = pd.read_csv('data/shoes_train.csv')\n",
    "df = shoes_train\n",
    "# df = clear_data(shoes_train, 175, 200, 50, 10, 0, grouped_brands, grouped_styles, grouped_materials,grouped_colors)"
   ]
  },
  {
   "cell_type": "code",
   "execution_count": 34,
   "id": "2bc0f5ff-31db-40ad-aeaf-a048a31e56b5",
   "metadata": {},
   "outputs": [
    {
     "data": {
      "text/html": [
       "<style>#sk-container-id-2 {color: black;background-color: white;}#sk-container-id-2 pre{padding: 0;}#sk-container-id-2 div.sk-toggleable {background-color: white;}#sk-container-id-2 label.sk-toggleable__label {cursor: pointer;display: block;width: 100%;margin-bottom: 0;padding: 0.3em;box-sizing: border-box;text-align: center;}#sk-container-id-2 label.sk-toggleable__label-arrow:before {content: \"▸\";float: left;margin-right: 0.25em;color: #696969;}#sk-container-id-2 label.sk-toggleable__label-arrow:hover:before {color: black;}#sk-container-id-2 div.sk-estimator:hover label.sk-toggleable__label-arrow:before {color: black;}#sk-container-id-2 div.sk-toggleable__content {max-height: 0;max-width: 0;overflow: hidden;text-align: left;background-color: #f0f8ff;}#sk-container-id-2 div.sk-toggleable__content pre {margin: 0.2em;color: black;border-radius: 0.25em;background-color: #f0f8ff;}#sk-container-id-2 input.sk-toggleable__control:checked~div.sk-toggleable__content {max-height: 200px;max-width: 100%;overflow: auto;}#sk-container-id-2 input.sk-toggleable__control:checked~label.sk-toggleable__label-arrow:before {content: \"▾\";}#sk-container-id-2 div.sk-estimator input.sk-toggleable__control:checked~label.sk-toggleable__label {background-color: #d4ebff;}#sk-container-id-2 div.sk-label input.sk-toggleable__control:checked~label.sk-toggleable__label {background-color: #d4ebff;}#sk-container-id-2 input.sk-hidden--visually {border: 0;clip: rect(1px 1px 1px 1px);clip: rect(1px, 1px, 1px, 1px);height: 1px;margin: -1px;overflow: hidden;padding: 0;position: absolute;width: 1px;}#sk-container-id-2 div.sk-estimator {font-family: monospace;background-color: #f0f8ff;border: 1px dotted black;border-radius: 0.25em;box-sizing: border-box;margin-bottom: 0.5em;}#sk-container-id-2 div.sk-estimator:hover {background-color: #d4ebff;}#sk-container-id-2 div.sk-parallel-item::after {content: \"\";width: 100%;border-bottom: 1px solid gray;flex-grow: 1;}#sk-container-id-2 div.sk-label:hover label.sk-toggleable__label {background-color: #d4ebff;}#sk-container-id-2 div.sk-serial::before {content: \"\";position: absolute;border-left: 1px solid gray;box-sizing: border-box;top: 0;bottom: 0;left: 50%;z-index: 0;}#sk-container-id-2 div.sk-serial {display: flex;flex-direction: column;align-items: center;background-color: white;padding-right: 0.2em;padding-left: 0.2em;position: relative;}#sk-container-id-2 div.sk-item {position: relative;z-index: 1;}#sk-container-id-2 div.sk-parallel {display: flex;align-items: stretch;justify-content: center;background-color: white;position: relative;}#sk-container-id-2 div.sk-item::before, #sk-container-id-2 div.sk-parallel-item::before {content: \"\";position: absolute;border-left: 1px solid gray;box-sizing: border-box;top: 0;bottom: 0;left: 50%;z-index: -1;}#sk-container-id-2 div.sk-parallel-item {display: flex;flex-direction: column;z-index: 1;position: relative;background-color: white;}#sk-container-id-2 div.sk-parallel-item:first-child::after {align-self: flex-end;width: 50%;}#sk-container-id-2 div.sk-parallel-item:last-child::after {align-self: flex-start;width: 50%;}#sk-container-id-2 div.sk-parallel-item:only-child::after {width: 0;}#sk-container-id-2 div.sk-dashed-wrapped {border: 1px dashed gray;margin: 0 0.4em 0.5em 0.4em;box-sizing: border-box;padding-bottom: 0.4em;background-color: white;}#sk-container-id-2 div.sk-label label {font-family: monospace;font-weight: bold;display: inline-block;line-height: 1.2em;}#sk-container-id-2 div.sk-label-container {text-align: center;}#sk-container-id-2 div.sk-container {/* jupyter's `normalize.less` sets `[hidden] { display: none; }` but bootstrap.min.css set `[hidden] { display: none !important; }` so we also need the `!important` here to be able to override the default hidden behavior on the sphinx rendered scikit-learn.org. See: https://github.com/scikit-learn/scikit-learn/issues/21755 */display: inline-block !important;position: relative;}#sk-container-id-2 div.sk-text-repr-fallback {display: none;}</style><div id=\"sk-container-id-2\" class=\"sk-top-container\"><div class=\"sk-text-repr-fallback\"><pre>OneHotEncoder(handle_unknown=&#x27;ignore&#x27;, sparse=False)</pre><b>In a Jupyter environment, please rerun this cell to show the HTML representation or trust the notebook. <br />On GitHub, the HTML representation is unable to render, please try loading this page with nbviewer.org.</b></div><div class=\"sk-container\" hidden><div class=\"sk-item\"><div class=\"sk-estimator sk-toggleable\"><input class=\"sk-toggleable__control sk-hidden--visually\" id=\"sk-estimator-id-2\" type=\"checkbox\" checked><label for=\"sk-estimator-id-2\" class=\"sk-toggleable__label sk-toggleable__label-arrow\">OneHotEncoder</label><div class=\"sk-toggleable__content\"><pre>OneHotEncoder(handle_unknown=&#x27;ignore&#x27;, sparse=False)</pre></div></div></div></div></div>"
      ],
      "text/plain": [
       "OneHotEncoder(handle_unknown='ignore', sparse=False)"
      ]
     },
     "execution_count": 34,
     "metadata": {},
     "output_type": "execute_result"
    }
   ],
   "source": [
    "df['price'] = df['price'].apply(np.log)\n",
    "X = df.loc[:,df.columns != 'price']\n",
    "y = df['price']\n",
    "\n",
    "X_train, X_test, y_train, y_test = train_test_split(X, y, test_size=0.2) #can add random_state=42\n",
    "\n",
    "X_train = clear_data(X_train, 175, 200, 50, 10, 0, grouped_brands, grouped_styles, grouped_materials,grouped_colors)\n",
    "X_test = clear_data(X_test, 175, 200, 50, 10, 0, grouped_brands, grouped_styles, grouped_materials,grouped_colors)\n",
    "\n",
    "\n",
    "\n",
    "ohe = OneHotEncoder(sparse=False, handle_unknown='ignore')\n",
    "ohe.fit(X_train[['brand','style','heel_height','material','occasion','country_region_of_manufacture',\n",
    "                                                  'color','vintage','location','condition','category']])"
   ]
  },
  {
   "cell_type": "code",
   "execution_count": 35,
   "id": "c3704033-92d4-4939-947d-edd7e8c6b5ed",
   "metadata": {},
   "outputs": [],
   "source": [
    "X_train = get_ohe(X_train)\n",
    "X_test = get_ohe(X_test)"
   ]
  },
  {
   "cell_type": "markdown",
   "id": "93109e58-8c21-4e8b-b36f-abe6cb149786",
   "metadata": {},
   "source": [
    "#### Gradient boost test"
   ]
  },
  {
   "cell_type": "code",
   "execution_count": 36,
   "id": "50a794ba-a1f7-4335-b839-e716242792de",
   "metadata": {},
   "outputs": [
    {
     "data": {
      "text/plain": [
       "0.5063481612416031"
      ]
     },
     "execution_count": 36,
     "metadata": {},
     "output_type": "execute_result"
    }
   ],
   "source": [
    "gb = HistGradientBoostingRegressor(random_state=42)\n",
    "gb.fit(X_train, y_train)\n",
    "y_pred = gb.predict(X_test)\n",
    "np.sqrt(mean_squared_error(y_test, y_pred))"
   ]
  },
  {
   "cell_type": "markdown",
   "id": "3e228027-b34b-4c9a-a3e6-4cb75f4fbb2b",
   "metadata": {},
   "source": [
    "#### XGBoost test"
   ]
  },
  {
   "cell_type": "code",
   "execution_count": 42,
   "id": "b103aa75-257f-4f78-8dcc-e79c9c230492",
   "metadata": {},
   "outputs": [
    {
     "data": {
      "text/plain": [
       "0.49790942860003923"
      ]
     },
     "execution_count": 42,
     "metadata": {},
     "output_type": "execute_result"
    }
   ],
   "source": [
    "xgb = XGBRegressor()\n",
    "xgb.fit(X_train,y_train)\n",
    "y_pred = xgb.predict(X_test)\n",
    "np.sqrt(mean_squared_error(y_test, y_pred))"
   ]
  },
  {
   "cell_type": "markdown",
   "id": "3d47f95f-dd16-4e5d-94ca-eb119619f825",
   "metadata": {},
   "source": [
    "### XGB is the winner!"
   ]
  },
  {
   "cell_type": "markdown",
   "id": "f4fa1ff9-e44d-40a5-8774-e29d0011d44d",
   "metadata": {},
   "source": [
    "# Model for giora"
   ]
  },
  {
   "cell_type": "code",
   "execution_count": 50,
   "id": "f9ee62bd-9b94-45e4-b16b-ebd28c116fad",
   "metadata": {},
   "outputs": [],
   "source": [
    "shoes_train = pd.read_csv('data/shoes_train.csv')\n",
    "shoes_test = pd.read_csv('data/shoes_test.csv')\n",
    "train = clear_data(shoes_train, 175, 200, 50, 10, 0, grouped_brands, grouped_styles, grouped_materials,grouped_colors)\n",
    "test = clear_data(shoes_test, 175, 200, 50, 10, 0, grouped_brands, grouped_styles, grouped_materials,grouped_colors)"
   ]
  },
  {
   "cell_type": "code",
   "execution_count": 51,
   "id": "9fb157ea-29ae-4961-a0ae-b803b9160e3e",
   "metadata": {},
   "outputs": [],
   "source": [
    "train['price'] = train['price'].apply(np.log)"
   ]
  },
  {
   "cell_type": "code",
   "execution_count": 52,
   "id": "94638b88-d79b-4552-b8f4-b8ff31629e9d",
   "metadata": {},
   "outputs": [
    {
     "data": {
      "text/html": [
       "<style>#sk-container-id-5 {color: black;background-color: white;}#sk-container-id-5 pre{padding: 0;}#sk-container-id-5 div.sk-toggleable {background-color: white;}#sk-container-id-5 label.sk-toggleable__label {cursor: pointer;display: block;width: 100%;margin-bottom: 0;padding: 0.3em;box-sizing: border-box;text-align: center;}#sk-container-id-5 label.sk-toggleable__label-arrow:before {content: \"▸\";float: left;margin-right: 0.25em;color: #696969;}#sk-container-id-5 label.sk-toggleable__label-arrow:hover:before {color: black;}#sk-container-id-5 div.sk-estimator:hover label.sk-toggleable__label-arrow:before {color: black;}#sk-container-id-5 div.sk-toggleable__content {max-height: 0;max-width: 0;overflow: hidden;text-align: left;background-color: #f0f8ff;}#sk-container-id-5 div.sk-toggleable__content pre {margin: 0.2em;color: black;border-radius: 0.25em;background-color: #f0f8ff;}#sk-container-id-5 input.sk-toggleable__control:checked~div.sk-toggleable__content {max-height: 200px;max-width: 100%;overflow: auto;}#sk-container-id-5 input.sk-toggleable__control:checked~label.sk-toggleable__label-arrow:before {content: \"▾\";}#sk-container-id-5 div.sk-estimator input.sk-toggleable__control:checked~label.sk-toggleable__label {background-color: #d4ebff;}#sk-container-id-5 div.sk-label input.sk-toggleable__control:checked~label.sk-toggleable__label {background-color: #d4ebff;}#sk-container-id-5 input.sk-hidden--visually {border: 0;clip: rect(1px 1px 1px 1px);clip: rect(1px, 1px, 1px, 1px);height: 1px;margin: -1px;overflow: hidden;padding: 0;position: absolute;width: 1px;}#sk-container-id-5 div.sk-estimator {font-family: monospace;background-color: #f0f8ff;border: 1px dotted black;border-radius: 0.25em;box-sizing: border-box;margin-bottom: 0.5em;}#sk-container-id-5 div.sk-estimator:hover {background-color: #d4ebff;}#sk-container-id-5 div.sk-parallel-item::after {content: \"\";width: 100%;border-bottom: 1px solid gray;flex-grow: 1;}#sk-container-id-5 div.sk-label:hover label.sk-toggleable__label {background-color: #d4ebff;}#sk-container-id-5 div.sk-serial::before {content: \"\";position: absolute;border-left: 1px solid gray;box-sizing: border-box;top: 0;bottom: 0;left: 50%;z-index: 0;}#sk-container-id-5 div.sk-serial {display: flex;flex-direction: column;align-items: center;background-color: white;padding-right: 0.2em;padding-left: 0.2em;position: relative;}#sk-container-id-5 div.sk-item {position: relative;z-index: 1;}#sk-container-id-5 div.sk-parallel {display: flex;align-items: stretch;justify-content: center;background-color: white;position: relative;}#sk-container-id-5 div.sk-item::before, #sk-container-id-5 div.sk-parallel-item::before {content: \"\";position: absolute;border-left: 1px solid gray;box-sizing: border-box;top: 0;bottom: 0;left: 50%;z-index: -1;}#sk-container-id-5 div.sk-parallel-item {display: flex;flex-direction: column;z-index: 1;position: relative;background-color: white;}#sk-container-id-5 div.sk-parallel-item:first-child::after {align-self: flex-end;width: 50%;}#sk-container-id-5 div.sk-parallel-item:last-child::after {align-self: flex-start;width: 50%;}#sk-container-id-5 div.sk-parallel-item:only-child::after {width: 0;}#sk-container-id-5 div.sk-dashed-wrapped {border: 1px dashed gray;margin: 0 0.4em 0.5em 0.4em;box-sizing: border-box;padding-bottom: 0.4em;background-color: white;}#sk-container-id-5 div.sk-label label {font-family: monospace;font-weight: bold;display: inline-block;line-height: 1.2em;}#sk-container-id-5 div.sk-label-container {text-align: center;}#sk-container-id-5 div.sk-container {/* jupyter's `normalize.less` sets `[hidden] { display: none; }` but bootstrap.min.css set `[hidden] { display: none !important; }` so we also need the `!important` here to be able to override the default hidden behavior on the sphinx rendered scikit-learn.org. See: https://github.com/scikit-learn/scikit-learn/issues/21755 */display: inline-block !important;position: relative;}#sk-container-id-5 div.sk-text-repr-fallback {display: none;}</style><div id=\"sk-container-id-5\" class=\"sk-top-container\"><div class=\"sk-text-repr-fallback\"><pre>OneHotEncoder(handle_unknown=&#x27;ignore&#x27;, sparse=False)</pre><b>In a Jupyter environment, please rerun this cell to show the HTML representation or trust the notebook. <br />On GitHub, the HTML representation is unable to render, please try loading this page with nbviewer.org.</b></div><div class=\"sk-container\" hidden><div class=\"sk-item\"><div class=\"sk-estimator sk-toggleable\"><input class=\"sk-toggleable__control sk-hidden--visually\" id=\"sk-estimator-id-5\" type=\"checkbox\" checked><label for=\"sk-estimator-id-5\" class=\"sk-toggleable__label sk-toggleable__label-arrow\">OneHotEncoder</label><div class=\"sk-toggleable__content\"><pre>OneHotEncoder(handle_unknown=&#x27;ignore&#x27;, sparse=False)</pre></div></div></div></div></div>"
      ],
      "text/plain": [
       "OneHotEncoder(handle_unknown='ignore', sparse=False)"
      ]
     },
     "execution_count": 52,
     "metadata": {},
     "output_type": "execute_result"
    }
   ],
   "source": [
    "X = train.loc[:,train.columns != 'price']\n",
    "y = train['price']\n",
    "\n",
    "ohe = OneHotEncoder(sparse=False, handle_unknown='ignore')\n",
    "ohe.fit(X[['brand','style','heel_height','material','occasion','country_region_of_manufacture',\n",
    "           'color','vintage','location','condition','category']])\n"
   ]
  },
  {
   "cell_type": "code",
   "execution_count": 53,
   "id": "ed102770-86f9-4572-a2c0-867213fb2710",
   "metadata": {},
   "outputs": [
    {
     "name": "stderr",
     "output_type": "stream",
     "text": [
      "/tmp/ipykernel_2944927/1198911694.py:4: SettingWithCopyWarning: \n",
      "A value is trying to be set on a copy of a slice from a DataFrame\n",
      "\n",
      "See the caveats in the documentation: https://pandas.pydata.org/pandas-docs/stable/user_guide/indexing.html#returning-a-view-versus-a-copy\n",
      "  df.drop(columns=['brand','style','heel_height','material','occasion','country_region_of_manufacture',\n"
     ]
    }
   ],
   "source": [
    "def get_ohe(df):\n",
    "    temp_df = pd.DataFrame(data=ohe.transform(df[['brand','style','heel_height','material','occasion','country_region_of_manufacture',\n",
    "                                                  'color','vintage','location','condition','category']]), columns=ohe.get_feature_names_out())\n",
    "    df.drop(columns=['brand','style','heel_height','material','occasion','country_region_of_manufacture',\n",
    "                                                  'color','vintage','location','condition','category'], axis=1, inplace=True)\n",
    "    df = pd.concat([df.reset_index(drop=True), temp_df], axis=1)\n",
    "    return df\n",
    "\n",
    "X = get_ohe(X)\n",
    "test = get_ohe(test)"
   ]
  },
  {
   "cell_type": "code",
   "execution_count": 54,
   "id": "e7a1d07e-8b25-423f-a283-b335cd832510",
   "metadata": {},
   "outputs": [
    {
     "data": {
      "text/html": [
       "<style>#sk-container-id-6 {color: black;background-color: white;}#sk-container-id-6 pre{padding: 0;}#sk-container-id-6 div.sk-toggleable {background-color: white;}#sk-container-id-6 label.sk-toggleable__label {cursor: pointer;display: block;width: 100%;margin-bottom: 0;padding: 0.3em;box-sizing: border-box;text-align: center;}#sk-container-id-6 label.sk-toggleable__label-arrow:before {content: \"▸\";float: left;margin-right: 0.25em;color: #696969;}#sk-container-id-6 label.sk-toggleable__label-arrow:hover:before {color: black;}#sk-container-id-6 div.sk-estimator:hover label.sk-toggleable__label-arrow:before {color: black;}#sk-container-id-6 div.sk-toggleable__content {max-height: 0;max-width: 0;overflow: hidden;text-align: left;background-color: #f0f8ff;}#sk-container-id-6 div.sk-toggleable__content pre {margin: 0.2em;color: black;border-radius: 0.25em;background-color: #f0f8ff;}#sk-container-id-6 input.sk-toggleable__control:checked~div.sk-toggleable__content {max-height: 200px;max-width: 100%;overflow: auto;}#sk-container-id-6 input.sk-toggleable__control:checked~label.sk-toggleable__label-arrow:before {content: \"▾\";}#sk-container-id-6 div.sk-estimator input.sk-toggleable__control:checked~label.sk-toggleable__label {background-color: #d4ebff;}#sk-container-id-6 div.sk-label input.sk-toggleable__control:checked~label.sk-toggleable__label {background-color: #d4ebff;}#sk-container-id-6 input.sk-hidden--visually {border: 0;clip: rect(1px 1px 1px 1px);clip: rect(1px, 1px, 1px, 1px);height: 1px;margin: -1px;overflow: hidden;padding: 0;position: absolute;width: 1px;}#sk-container-id-6 div.sk-estimator {font-family: monospace;background-color: #f0f8ff;border: 1px dotted black;border-radius: 0.25em;box-sizing: border-box;margin-bottom: 0.5em;}#sk-container-id-6 div.sk-estimator:hover {background-color: #d4ebff;}#sk-container-id-6 div.sk-parallel-item::after {content: \"\";width: 100%;border-bottom: 1px solid gray;flex-grow: 1;}#sk-container-id-6 div.sk-label:hover label.sk-toggleable__label {background-color: #d4ebff;}#sk-container-id-6 div.sk-serial::before {content: \"\";position: absolute;border-left: 1px solid gray;box-sizing: border-box;top: 0;bottom: 0;left: 50%;z-index: 0;}#sk-container-id-6 div.sk-serial {display: flex;flex-direction: column;align-items: center;background-color: white;padding-right: 0.2em;padding-left: 0.2em;position: relative;}#sk-container-id-6 div.sk-item {position: relative;z-index: 1;}#sk-container-id-6 div.sk-parallel {display: flex;align-items: stretch;justify-content: center;background-color: white;position: relative;}#sk-container-id-6 div.sk-item::before, #sk-container-id-6 div.sk-parallel-item::before {content: \"\";position: absolute;border-left: 1px solid gray;box-sizing: border-box;top: 0;bottom: 0;left: 50%;z-index: -1;}#sk-container-id-6 div.sk-parallel-item {display: flex;flex-direction: column;z-index: 1;position: relative;background-color: white;}#sk-container-id-6 div.sk-parallel-item:first-child::after {align-self: flex-end;width: 50%;}#sk-container-id-6 div.sk-parallel-item:last-child::after {align-self: flex-start;width: 50%;}#sk-container-id-6 div.sk-parallel-item:only-child::after {width: 0;}#sk-container-id-6 div.sk-dashed-wrapped {border: 1px dashed gray;margin: 0 0.4em 0.5em 0.4em;box-sizing: border-box;padding-bottom: 0.4em;background-color: white;}#sk-container-id-6 div.sk-label label {font-family: monospace;font-weight: bold;display: inline-block;line-height: 1.2em;}#sk-container-id-6 div.sk-label-container {text-align: center;}#sk-container-id-6 div.sk-container {/* jupyter's `normalize.less` sets `[hidden] { display: none; }` but bootstrap.min.css set `[hidden] { display: none !important; }` so we also need the `!important` here to be able to override the default hidden behavior on the sphinx rendered scikit-learn.org. See: https://github.com/scikit-learn/scikit-learn/issues/21755 */display: inline-block !important;position: relative;}#sk-container-id-6 div.sk-text-repr-fallback {display: none;}</style><div id=\"sk-container-id-6\" class=\"sk-top-container\"><div class=\"sk-text-repr-fallback\"><pre>XGBRegressor(base_score=None, booster=None, callbacks=None,\n",
       "             colsample_bylevel=None, colsample_bynode=None,\n",
       "             colsample_bytree=None, early_stopping_rounds=None,\n",
       "             enable_categorical=False, eval_metric=None, feature_types=None,\n",
       "             gamma=None, gpu_id=None, grow_policy=None, importance_type=None,\n",
       "             interaction_constraints=None, learning_rate=None, max_bin=None,\n",
       "             max_cat_threshold=None, max_cat_to_onehot=None,\n",
       "             max_delta_step=None, max_depth=None, max_leaves=None,\n",
       "             min_child_weight=None, missing=nan, monotone_constraints=None,\n",
       "             n_estimators=100, n_jobs=None, num_parallel_tree=None,\n",
       "             predictor=None, random_state=None, ...)</pre><b>In a Jupyter environment, please rerun this cell to show the HTML representation or trust the notebook. <br />On GitHub, the HTML representation is unable to render, please try loading this page with nbviewer.org.</b></div><div class=\"sk-container\" hidden><div class=\"sk-item\"><div class=\"sk-estimator sk-toggleable\"><input class=\"sk-toggleable__control sk-hidden--visually\" id=\"sk-estimator-id-6\" type=\"checkbox\" checked><label for=\"sk-estimator-id-6\" class=\"sk-toggleable__label sk-toggleable__label-arrow\">XGBRegressor</label><div class=\"sk-toggleable__content\"><pre>XGBRegressor(base_score=None, booster=None, callbacks=None,\n",
       "             colsample_bylevel=None, colsample_bynode=None,\n",
       "             colsample_bytree=None, early_stopping_rounds=None,\n",
       "             enable_categorical=False, eval_metric=None, feature_types=None,\n",
       "             gamma=None, gpu_id=None, grow_policy=None, importance_type=None,\n",
       "             interaction_constraints=None, learning_rate=None, max_bin=None,\n",
       "             max_cat_threshold=None, max_cat_to_onehot=None,\n",
       "             max_delta_step=None, max_depth=None, max_leaves=None,\n",
       "             min_child_weight=None, missing=nan, monotone_constraints=None,\n",
       "             n_estimators=100, n_jobs=None, num_parallel_tree=None,\n",
       "             predictor=None, random_state=None, ...)</pre></div></div></div></div></div>"
      ],
      "text/plain": [
       "XGBRegressor(base_score=None, booster=None, callbacks=None,\n",
       "             colsample_bylevel=None, colsample_bynode=None,\n",
       "             colsample_bytree=None, early_stopping_rounds=None,\n",
       "             enable_categorical=False, eval_metric=None, feature_types=None,\n",
       "             gamma=None, gpu_id=None, grow_policy=None, importance_type=None,\n",
       "             interaction_constraints=None, learning_rate=None, max_bin=None,\n",
       "             max_cat_threshold=None, max_cat_to_onehot=None,\n",
       "             max_delta_step=None, max_depth=None, max_leaves=None,\n",
       "             min_child_weight=None, missing=nan, monotone_constraints=None,\n",
       "             n_estimators=100, n_jobs=None, num_parallel_tree=None,\n",
       "             predictor=None, random_state=None, ...)"
      ]
     },
     "execution_count": 54,
     "metadata": {},
     "output_type": "execute_result"
    }
   ],
   "source": [
    "xgb = XGBRegressor()\n",
    "xgb.fit(X, y)"
   ]
  },
  {
   "cell_type": "code",
   "execution_count": 55,
   "id": "0f806c72-65ee-460c-b6f8-52f7fafebdfa",
   "metadata": {},
   "outputs": [],
   "source": [
    "shoes_test['pred_price'] = xgb.predict(test)"
   ]
  },
  {
   "cell_type": "code",
   "execution_count": 56,
   "id": "bd438b8b-0267-44c2-95de-4e36147261db",
   "metadata": {},
   "outputs": [],
   "source": [
    "shoes_test.loc[:,['id','pred_price']].to_csv('model07.csv',index=False)"
   ]
  }
 ],
 "metadata": {
  "kernelspec": {
   "display_name": "Python 3 (ipykernel)",
   "language": "python",
   "name": "python3"
  },
  "language_info": {
   "codemirror_mode": {
    "name": "ipython",
    "version": 3
   },
   "file_extension": ".py",
   "mimetype": "text/x-python",
   "name": "python",
   "nbconvert_exporter": "python",
   "pygments_lexer": "ipython3",
   "version": "3.10.6"
  }
 },
 "nbformat": 4,
 "nbformat_minor": 5
}
