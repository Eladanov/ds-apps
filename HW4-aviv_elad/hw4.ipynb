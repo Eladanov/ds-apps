{
 "cells": [
  {
   "cell_type": "markdown",
   "metadata": {},
   "source": [
    "<img align=\"right\" src=\"images/DSApps_logo_small.jpg\">\n",
    "\n",
    "# DSApps 2023 @ TAU: Assignment 4\n",
    "\n",
    "### Giora Simchoni\n",
    "\n",
    "### Network Analysis with NetworkX"
   ]
  },
  {
   "cell_type": "markdown",
   "metadata": {},
   "source": [
    "### Welcome\n",
    "\n",
    "Welcome to Assignment 4 in Python!\n",
    "\n",
    "Remember:\n",
    "\n",
    "* You can play with the assignment in Playground mode, but:\n",
    "* Only your private Github repository assigned to you by the course admin will be cloned and graded (Submission mode, see instructions [here](https://github.com/DSApps-2023/Class_Slides/blob/main/Apps_of_DS_HW.pdf))\n",
    "* Like any other University assignment, your work should remain private\n",
    "* You need to `git clone` your private Github repository locally as explained [here](https://github.com/DSApps-2023/Class_Slides/blob/main/Apps_of_DS_HW.pdf)\n",
    "* You need to uncomment the starter code inside the chunk, replace the `### YOUR CODE HERE ###`, run the chunk and see that you're getting the expected result\n",
    "* Pay attention to what you're asked to do and the required output\n",
    "* For example, using a *different* function than the one you were specifically asked to use, will decrease your score (unless you amaze me)\n",
    "* Your notebook should run smoothly from start to end if someone presses in the Jupyter toolbar Kernel --> Restart & Run All\n",
    "* When you're done save the entire notebook into a html file, this is the file that would be graded\n",
    "* You can add other files but do not delete any files\n",
    "* Commit your work and push to your private Github repository as explained [here](https://github.com/DSApps-2023/Class_Slides/blob/main/Apps_of_DS_HW.pdf)\n",
    "\n",
    "This assignemtnt is due: 18/5 23:59\n",
    "\n",
    "### Libraries\n",
    "\n",
    "These are the libraries you will need. If you don't have them, you need to uncomment the `!pip install` line and install them first (you can also just copy this command to a terminal and do it there if you don't want all the output printed in this notebook)."
   ]
  },
  {
   "cell_type": "code",
   "execution_count": 1,
   "metadata": {},
   "outputs": [],
   "source": [
    "#!pip install matplotlib numpy scipy pandas networkx"
   ]
  },
  {
   "cell_type": "code",
   "execution_count": 2,
   "metadata": {},
   "outputs": [],
   "source": [
    "import pandas as pd\n",
    "import numpy as np\n",
    "import matplotlib.pyplot as plt\n",
    "import networkx as nx\n",
    "from collections import defaultdict\n",
    "from itertools import combinations # not mandatory"
   ]
  },
  {
   "cell_type": "markdown",
   "metadata": {},
   "source": [
    "### The Films to Actors 2010s Dataset\n",
    "\n"
   ]
  },
  {
   "cell_type": "markdown",
   "metadata": {},
   "source": [
    "Often cited articles in the field of Network Analysis are [\"Emergence of Scaling in Random Networks\"](http://barabasi.com/f/67.pdf) by Barabasi and Albert and [\"The Eccentricities of Actors\"](https://www.jstor.org/stable/25678151?seq=1) by Harris and Mossinghoff. Both articles deal with a network of film actors in which two actors are connected if they were cast in the same film. The famous [Kevin Bacon Number](https://en.wikipedia.org/wiki/Six_Degrees_of_Kevin_Bacon) is also discussed.\n",
    "\n",
    "Alas, the data used by these articles were put together somewhere in the late 1990s :(\n",
    "\n",
    "Can we scrape the web to get an updated version?\n",
    "\n",
    "We sure can! Checkout the short python script `scraping_films_actors_2010s.py` in which I used one of Python's most popular library for scraping the web [BeautifulSoup](https://www.crummy.com/software/BeautifulSoup/bs4/doc/), to scrape [Wikipedia](https://en.wikipedia.org/wiki/List_of_American_films_of_2010) for most popular films in the 2010s (2010-2019) and their cast.\n",
    "\n",
    "The script isn't perfect, the data aren't perfect, as you will undoubtedly see - but they're good enough for us. For example Wikipedia only lists \"main\" actors on cast (A-list, sort of), for a more extensive list one could go to scrape [IMDB](https://www.imdb.com/).\n",
    "\n",
    "Few important notes if you're interested in web scraping (if not - go on):\n",
    "\n",
    "* You can use the script if you want to increase the span of years, e.g. to 2000-2019, but it is only guaranteed to work for 2010-2019, those 10 Wikipedia pages, on 3/3/2020 (Yes, they can change!)\n",
    "* Even between 2010 and 2019 if you look closely at the script there are differences in structure\n",
    "* With great power comes great responsibility - there's ethics to web scraping, please don't bombard Wikipedia or any other site with thousands of requests, they might crash or punish you and rightly so! See e.g. [here](https://towardsdatascience.com/ethics-in-web-scraping-b96b18136f01)."
   ]
  },
  {
   "cell_type": "markdown",
   "metadata": {},
   "source": [
    "Read in the data, it is pretty self explanatory:"
   ]
  },
  {
   "cell_type": "code",
   "execution_count": 3,
   "metadata": {},
   "outputs": [],
   "source": [
    "films_actors_edgelist = pd.read_csv('data/films_actors_edgelist_2010s.csv', usecols=['film', 'actor', 'year'])"
   ]
  },
  {
   "cell_type": "markdown",
   "metadata": {},
   "source": [
    "### Basic Data Exploration\n",
    "\n",
    "###### (0 points)"
   ]
  },
  {
   "cell_type": "markdown",
   "metadata": {},
   "source": [
    "Data dimensions:"
   ]
  },
  {
   "cell_type": "code",
   "execution_count": 4,
   "metadata": {},
   "outputs": [
    {
     "data": {
      "text/plain": [
       "(12352, 3)"
      ]
     },
     "execution_count": 4,
     "metadata": {},
     "output_type": "execute_result"
    }
   ],
   "source": [
    "films_actors_edgelist.shape"
   ]
  },
  {
   "cell_type": "markdown",
   "metadata": {},
   "source": [
    "Peek at the data:"
   ]
  },
  {
   "cell_type": "code",
   "execution_count": 5,
   "metadata": {},
   "outputs": [
    {
     "data": {
      "text/html": [
       "<div>\n",
       "<style scoped>\n",
       "    .dataframe tbody tr th:only-of-type {\n",
       "        vertical-align: middle;\n",
       "    }\n",
       "\n",
       "    .dataframe tbody tr th {\n",
       "        vertical-align: top;\n",
       "    }\n",
       "\n",
       "    .dataframe thead th {\n",
       "        text-align: right;\n",
       "    }\n",
       "</style>\n",
       "<table border=\"1\" class=\"dataframe\">\n",
       "  <thead>\n",
       "    <tr style=\"text-align: right;\">\n",
       "      <th></th>\n",
       "      <th>film</th>\n",
       "      <th>actor</th>\n",
       "      <th>year</th>\n",
       "    </tr>\n",
       "  </thead>\n",
       "  <tbody>\n",
       "    <tr>\n",
       "      <th>0</th>\n",
       "      <td>127 Hours</td>\n",
       "      <td>James Franco</td>\n",
       "      <td>2010</td>\n",
       "    </tr>\n",
       "    <tr>\n",
       "      <th>1</th>\n",
       "      <td>127 Hours</td>\n",
       "      <td>Amber Tamblyn</td>\n",
       "      <td>2010</td>\n",
       "    </tr>\n",
       "    <tr>\n",
       "      <th>2</th>\n",
       "      <td>127 Hours</td>\n",
       "      <td>Kate Mara</td>\n",
       "      <td>2010</td>\n",
       "    </tr>\n",
       "    <tr>\n",
       "      <th>3</th>\n",
       "      <td>127 Hours</td>\n",
       "      <td>Clémence Poésy</td>\n",
       "      <td>2010</td>\n",
       "    </tr>\n",
       "    <tr>\n",
       "      <th>4</th>\n",
       "      <td>127 Hours</td>\n",
       "      <td>Lizzy Caplan</td>\n",
       "      <td>2010</td>\n",
       "    </tr>\n",
       "  </tbody>\n",
       "</table>\n",
       "</div>"
      ],
      "text/plain": [
       "        film           actor  year\n",
       "0  127 Hours    James Franco  2010\n",
       "1  127 Hours   Amber Tamblyn  2010\n",
       "2  127 Hours       Kate Mara  2010\n",
       "3  127 Hours  Clémence Poésy  2010\n",
       "4  127 Hours    Lizzy Caplan  2010"
      ]
     },
     "execution_count": 5,
     "metadata": {},
     "output_type": "execute_result"
    }
   ],
   "source": [
    "films_actors_edgelist.head(5)"
   ]
  },
  {
   "cell_type": "markdown",
   "metadata": {},
   "source": [
    "Top actors (no. of films):"
   ]
  },
  {
   "cell_type": "code",
   "execution_count": 6,
   "metadata": {},
   "outputs": [
    {
     "data": {
      "text/plain": [
       "actor\n",
       "Dwayne Johnson    23\n",
       "Liam Neeson       21\n",
       "Kristen Wiig      21\n",
       "James Franco      21\n",
       "Idris Elba        20\n",
       "Michael Peña      20\n",
       "Stanley Tucci     20\n",
       "Anthony Mackie    19\n",
       "Robert De Niro    19\n",
       "Kevin Hart        19\n",
       "dtype: int64"
      ]
     },
     "execution_count": 6,
     "metadata": {},
     "output_type": "execute_result"
    }
   ],
   "source": [
    "films_actors_edgelist.groupby('actor').size().sort_values(ascending=False).head(10)"
   ]
  },
  {
   "cell_type": "markdown",
   "metadata": {},
   "source": [
    "Notice the only actress in this group is Kristen Wiig. She had a film released every year excluding 2015 and 2018:"
   ]
  },
  {
   "cell_type": "code",
   "execution_count": 7,
   "metadata": {},
   "outputs": [
    {
     "data": {
      "text/html": [
       "<div>\n",
       "<style scoped>\n",
       "    .dataframe tbody tr th:only-of-type {\n",
       "        vertical-align: middle;\n",
       "    }\n",
       "\n",
       "    .dataframe tbody tr th {\n",
       "        vertical-align: top;\n",
       "    }\n",
       "\n",
       "    .dataframe thead th {\n",
       "        text-align: right;\n",
       "    }\n",
       "</style>\n",
       "<table border=\"1\" class=\"dataframe\">\n",
       "  <thead>\n",
       "    <tr style=\"text-align: right;\">\n",
       "      <th></th>\n",
       "      <th>film</th>\n",
       "      <th>actor</th>\n",
       "      <th>year</th>\n",
       "    </tr>\n",
       "  </thead>\n",
       "  <tbody>\n",
       "    <tr>\n",
       "      <th>36</th>\n",
       "      <td>All Good Things</td>\n",
       "      <td>Kristen Wiig</td>\n",
       "      <td>2010</td>\n",
       "    </tr>\n",
       "    <tr>\n",
       "      <th>219</th>\n",
       "      <td>Despicable Me</td>\n",
       "      <td>Kristen Wiig</td>\n",
       "      <td>2010</td>\n",
       "    </tr>\n",
       "    <tr>\n",
       "      <th>471</th>\n",
       "      <td>How to Train Your Dragon</td>\n",
       "      <td>Kristen Wiig</td>\n",
       "      <td>2010</td>\n",
       "    </tr>\n",
       "    <tr>\n",
       "      <th>690</th>\n",
       "      <td>MacGruber</td>\n",
       "      <td>Kristen Wiig</td>\n",
       "      <td>2010</td>\n",
       "    </tr>\n",
       "    <tr>\n",
       "      <th>1431</th>\n",
       "      <td>Bridesmaids</td>\n",
       "      <td>Kristen Wiig</td>\n",
       "      <td>2011</td>\n",
       "    </tr>\n",
       "    <tr>\n",
       "      <th>2259</th>\n",
       "      <td>Paul</td>\n",
       "      <td>Kristen Wiig</td>\n",
       "      <td>2011</td>\n",
       "    </tr>\n",
       "    <tr>\n",
       "      <th>3541</th>\n",
       "      <td>Friends with Kids</td>\n",
       "      <td>Kristen Wiig</td>\n",
       "      <td>2012</td>\n",
       "    </tr>\n",
       "    <tr>\n",
       "      <th>6143</th>\n",
       "      <td>The Secret Life of Walter Mitty</td>\n",
       "      <td>Kristen Wiig</td>\n",
       "      <td>2013</td>\n",
       "    </tr>\n",
       "    <tr>\n",
       "      <th>5261</th>\n",
       "      <td>Girl Most Likely</td>\n",
       "      <td>Kristen Wiig</td>\n",
       "      <td>2013</td>\n",
       "    </tr>\n",
       "    <tr>\n",
       "      <th>5375</th>\n",
       "      <td>Hateship, Loveship</td>\n",
       "      <td>Kristen Wiig</td>\n",
       "      <td>2013</td>\n",
       "    </tr>\n",
       "    <tr>\n",
       "      <th>4705</th>\n",
       "      <td>Anchorman 2: The Legend Continues</td>\n",
       "      <td>Kristen Wiig</td>\n",
       "      <td>2013</td>\n",
       "    </tr>\n",
       "    <tr>\n",
       "      <th>5053</th>\n",
       "      <td>Despicable Me 2</td>\n",
       "      <td>Kristen Wiig</td>\n",
       "      <td>2013</td>\n",
       "    </tr>\n",
       "    <tr>\n",
       "      <th>6974</th>\n",
       "      <td>The Skeleton Twins</td>\n",
       "      <td>Kristen Wiig</td>\n",
       "      <td>2014</td>\n",
       "    </tr>\n",
       "    <tr>\n",
       "      <th>5743</th>\n",
       "      <td>Masterminds</td>\n",
       "      <td>Kristen Wiig</td>\n",
       "      <td>2016</td>\n",
       "    </tr>\n",
       "    <tr>\n",
       "      <th>7810</th>\n",
       "      <td>Zoolander 2</td>\n",
       "      <td>Kristen Wiig</td>\n",
       "      <td>2016</td>\n",
       "    </tr>\n",
       "    <tr>\n",
       "      <th>7972</th>\n",
       "      <td>Ghostbusters</td>\n",
       "      <td>Kristen Wiig</td>\n",
       "      <td>2016</td>\n",
       "    </tr>\n",
       "    <tr>\n",
       "      <th>7990</th>\n",
       "      <td>Sausage Party</td>\n",
       "      <td>Kristen Wiig</td>\n",
       "      <td>2016</td>\n",
       "    </tr>\n",
       "    <tr>\n",
       "      <th>9430</th>\n",
       "      <td>Downsizing</td>\n",
       "      <td>Kristen Wiig</td>\n",
       "      <td>2017</td>\n",
       "    </tr>\n",
       "    <tr>\n",
       "      <th>8760</th>\n",
       "      <td>Despicable Me 3</td>\n",
       "      <td>Kristen Wiig</td>\n",
       "      <td>2017</td>\n",
       "    </tr>\n",
       "    <tr>\n",
       "      <th>9013</th>\n",
       "      <td>Mother!</td>\n",
       "      <td>Kristen Wiig</td>\n",
       "      <td>2017</td>\n",
       "    </tr>\n",
       "    <tr>\n",
       "      <th>11753</th>\n",
       "      <td>Where'd You Go, Bernadette</td>\n",
       "      <td>Kristen Wiig</td>\n",
       "      <td>2019</td>\n",
       "    </tr>\n",
       "  </tbody>\n",
       "</table>\n",
       "</div>"
      ],
      "text/plain": [
       "                                    film         actor  year\n",
       "36                       All Good Things  Kristen Wiig  2010\n",
       "219                        Despicable Me  Kristen Wiig  2010\n",
       "471             How to Train Your Dragon  Kristen Wiig  2010\n",
       "690                            MacGruber  Kristen Wiig  2010\n",
       "1431                         Bridesmaids  Kristen Wiig  2011\n",
       "2259                                Paul  Kristen Wiig  2011\n",
       "3541                   Friends with Kids  Kristen Wiig  2012\n",
       "6143     The Secret Life of Walter Mitty  Kristen Wiig  2013\n",
       "5261                    Girl Most Likely  Kristen Wiig  2013\n",
       "5375                  Hateship, Loveship  Kristen Wiig  2013\n",
       "4705   Anchorman 2: The Legend Continues  Kristen Wiig  2013\n",
       "5053                     Despicable Me 2  Kristen Wiig  2013\n",
       "6974                  The Skeleton Twins  Kristen Wiig  2014\n",
       "5743                         Masterminds  Kristen Wiig  2016\n",
       "7810                         Zoolander 2  Kristen Wiig  2016\n",
       "7972                        Ghostbusters  Kristen Wiig  2016\n",
       "7990                       Sausage Party  Kristen Wiig  2016\n",
       "9430                          Downsizing  Kristen Wiig  2017\n",
       "8760                     Despicable Me 3  Kristen Wiig  2017\n",
       "9013                             Mother!  Kristen Wiig  2017\n",
       "11753         Where'd You Go, Bernadette  Kristen Wiig  2019"
      ]
     },
     "execution_count": 7,
     "metadata": {},
     "output_type": "execute_result"
    }
   ],
   "source": [
    "films_actors_edgelist.query('actor == \"Kristen Wiig\"').sort_values('year')"
   ]
  },
  {
   "cell_type": "markdown",
   "metadata": {},
   "source": [
    "But these are extremes. You can see that over 50% of the 4,742 actors in the list have only 1 film:"
   ]
  },
  {
   "cell_type": "code",
   "execution_count": 8,
   "metadata": {},
   "outputs": [
    {
     "data": {
      "text/plain": [
       "count    4743.000000\n",
       "mean        2.604259\n",
       "std         2.977782\n",
       "min         1.000000\n",
       "25%         1.000000\n",
       "50%         1.000000\n",
       "75%         3.000000\n",
       "max        23.000000\n",
       "dtype: float64"
      ]
     },
     "execution_count": 8,
     "metadata": {},
     "output_type": "execute_result"
    }
   ],
   "source": [
    "films_actors_edgelist.groupby('actor').size().describe()"
   ]
  },
  {
   "cell_type": "markdown",
   "metadata": {},
   "source": [
    "See top films (size of cast):"
   ]
  },
  {
   "cell_type": "code",
   "execution_count": 9,
   "metadata": {},
   "outputs": [
    {
     "data": {
      "text/plain": [
       "film\n",
       "Anchorman 2: The Legend Continues            32\n",
       "The Twilight Saga: Breaking Dawn - Part 2    31\n",
       "Cars 2                                       30\n",
       "Avengers: Infinity War                       27\n",
       "Grown Ups 2                                  26\n",
       "Toy Story 3                                  26\n",
       "Ice Age: Continental Drift                   23\n",
       "Argo                                         22\n",
       "Movie 43                                     22\n",
       "Django Unchained                             22\n",
       "dtype: int64"
      ]
     },
     "execution_count": 9,
     "metadata": {},
     "output_type": "execute_result"
    }
   ],
   "source": [
    "films_actors_edgelist.groupby('film').size().sort_values(ascending=False).head(10)"
   ]
  },
  {
   "cell_type": "markdown",
   "metadata": {},
   "source": [
    "Anchorman 2 has a cast of 32 A list actors?"
   ]
  },
  {
   "cell_type": "code",
   "execution_count": 10,
   "metadata": {},
   "outputs": [
    {
     "data": {
      "text/plain": [
       "['Will Ferrell',\n",
       " 'Christina Applegate',\n",
       " 'Paul Rudd',\n",
       " 'David Koechner',\n",
       " 'Steve Carell',\n",
       " 'Kristen Wiig',\n",
       " 'James Marsden',\n",
       " 'Dylan Baker',\n",
       " 'Meagan Good',\n",
       " 'Harrison Ford',\n",
       " 'Greg Kinnear',\n",
       " 'Josh Lawson',\n",
       " 'Vince Vaughn',\n",
       " 'Luke Wilson',\n",
       " 'Nicole Kidman',\n",
       " 'Fred Willard',\n",
       " 'Chris Parnell',\n",
       " 'Fred Armisen',\n",
       " 'Jim Carrey',\n",
       " 'Sacha Baron Cohen',\n",
       " 'Drake',\n",
       " 'Kirsten Dunst',\n",
       " 'Tina Fey',\n",
       " 'Will Smith',\n",
       " 'Liam Neeson',\n",
       " 'Amy Poehler',\n",
       " 'Kanye West',\n",
       " 'Billie Joe Armstrong',\n",
       " 'Mike Dirnt',\n",
       " 'Tré Cool',\n",
       " 'Jason White',\n",
       " 'Lewis Hamilton']"
      ]
     },
     "execution_count": 10,
     "metadata": {},
     "output_type": "execute_result"
    }
   ],
   "source": [
    "films_actors_edgelist.loc[films_actors_edgelist['film'].str.startswith(\"Anchorman 2\"), 'actor'].to_list()"
   ]
  },
  {
   "cell_type": "markdown",
   "metadata": {},
   "source": [
    "But these are extremes. You can see a film on this list typically has up to 7 named actors:"
   ]
  },
  {
   "cell_type": "code",
   "execution_count": 11,
   "metadata": {},
   "outputs": [
    {
     "data": {
      "text/plain": [
       "count    2194.000000\n",
       "mean        5.629900\n",
       "std         3.389415\n",
       "min         1.000000\n",
       "25%         3.000000\n",
       "50%         5.000000\n",
       "75%         7.000000\n",
       "max        32.000000\n",
       "dtype: float64"
      ]
     },
     "execution_count": 11,
     "metadata": {},
     "output_type": "execute_result"
    }
   ],
   "source": [
    "films_actors_edgelist.groupby('film').size().describe()"
   ]
  },
  {
   "cell_type": "markdown",
   "metadata": {},
   "source": [
    "### Creating the Network\n",
    "\n",
    "##### (20 points)"
   ]
  },
  {
   "cell_type": "markdown",
   "metadata": {},
   "source": [
    "Your task is to create the network of actors.\n",
    "\n",
    "* Call it `A`\n",
    "* Your network should be undirected and unweighted, i.e. if two actors were cast in at least one film together they are connected by an edge\n",
    "* No self edges obviously, no multi-edges\n",
    "* Be careful not to \"lose\" an actor/actress who was cast in a single film in which he/she are the **only** cast members\n",
    "* There are numerous ways to do this, I provided hints, **YOU ONLY NEED TO IMPLEMENT ONE**"
   ]
  },
  {
   "cell_type": "code",
   "execution_count": 12,
   "metadata": {},
   "outputs": [],
   "source": [
    "# Some sanity check function to help you:\n",
    "def print_network_info(G):\n",
    "    print('no. of nodes: %d' % G.number_of_nodes())\n",
    "    print('no. of edges: %d' % G.number_of_edges())\n",
    "    print('no. of James Franco neighbors: %d' % len(list(G.neighbors('James Franco'))))"
   ]
  },
  {
   "cell_type": "code",
   "execution_count": 97,
   "metadata": {},
   "outputs": [
    {
     "name": "stdout",
     "output_type": "stream",
     "text": [
      "no. of nodes: 4743\n",
      "no. of edges: 39319\n",
      "no. of James Franco neighbors: 107\n"
     ]
    }
   ],
   "source": [
    "# method 1: converting our DF into a <film --> actors list> dictionary, then iterating through that dictionary,\n",
    "# adding an edge between every combination of 2 actors\n",
    "#\n",
    "df = films_actors_edgelist.groupby('film',as_index=False)['actor'].agg(lambda x: list(x))\n",
    "films_dict = dict(df.values)\n",
    "\n",
    "A = nx.Graph()\n",
    "edges = set()\n",
    "for film in films_dict:\n",
    "    film_actors = films_dict[film]\n",
    "    if len(film_actors) > 1:\n",
    "        combos = set(combinations(film_actors, 2))\n",
    "        edges.update(combos)\n",
    "    else:\n",
    "        A.add_node(film_actors[0])\n",
    "A.add_edges_from(edges)\n",
    "print_network_info(A)"
   ]
  },
  {
   "cell_type": "code",
   "execution_count": 14,
   "metadata": {},
   "outputs": [],
   "source": [
    "# method 2: use NetworkX bipartite.projected_graph() function\n",
    "#\n",
    "# ### YOUR CODE HERE\n",
    "# print_network_info(A)"
   ]
  },
  {
   "cell_type": "code",
   "execution_count": 15,
   "metadata": {},
   "outputs": [],
   "source": [
    "# method 3 (slowest and least recommended):\n",
    "# convert our DF into a films X actors 0/1 incidence matrix (e.g. with pivot_table()),\n",
    "# then either:\n",
    "# (1) compute the projected actors co-occurence matrix manually, then use NetworkX from_numpy_array() reading function\n",
    "# (2) use NetworkX bipartite.from_biadjacency_matrix() function, then bipartite.projected_graph()\n",
    "#\n",
    "# ### YOUR CODE HERE\n",
    "# print_network_info(A)"
   ]
  },
  {
   "cell_type": "markdown",
   "metadata": {},
   "source": [
    "### Basic Network Exploration\n",
    "\n",
    "##### (20 points)"
   ]
  },
  {
   "cell_type": "markdown",
   "metadata": {},
   "source": [
    "What is the average, median minimum and maximum degree of the network?"
   ]
  },
  {
   "cell_type": "code",
   "execution_count": 16,
   "metadata": {},
   "outputs": [
    {
     "name": "stdout",
     "output_type": "stream",
     "text": [
      "Mean degree: 16.58\n",
      "Median degree: 9.00\n",
      "Max degree: 146.00\n",
      "Min degree: 0.00\n"
     ]
    }
   ],
   "source": [
    "A_degrees = list(dict(A.degree).values())\n",
    "print('Mean degree: %.2f' % np.mean(A_degrees))\n",
    "print('Median degree: %.2f' % np.median(A_degrees))\n",
    "print('Max degree: %.2f' % np.max(A_degrees))\n",
    "print('Min degree: %.2f' % np.min(A_degrees))"
   ]
  },
  {
   "cell_type": "markdown",
   "metadata": {},
   "source": [
    "Who are the 10 actors with highest degrees?"
   ]
  },
  {
   "cell_type": "code",
   "execution_count": 17,
   "metadata": {},
   "outputs": [
    {
     "name": "stdout",
     "output_type": "stream",
     "text": [
      "['Liam Neeson', 'Michael Peña', 'Bryan Cranston', 'John Goodman', 'Owen Wilson', 'Kristen Bell', 'Nicole Kidman', 'Steve Carell', 'Bradley Cooper', 'Elizabeth Banks']\n"
     ]
    }
   ],
   "source": [
    "top10 = sorted(dict(A.degree).items(), key=lambda x:x[1], reverse=True)[:10]\n",
    "top10_names = [x[0] for x in top10]\n",
    "print(top10_names)"
   ]
  },
  {
   "cell_type": "markdown",
   "metadata": {},
   "source": [
    "Plot the degree histogram of the network (doesn't have to be pretty)."
   ]
  },
  {
   "cell_type": "code",
   "execution_count": 18,
   "metadata": {},
   "outputs": [
    {
     "data": {
      "image/png": "[encoded data removed]",
      "text/plain": [
       "<Figure size 640x480 with 1 Axes>"
      ]
     },
     "metadata": {},
     "output_type": "display_data"
    }
   ],
   "source": [
    "degrees = [A.degree(n) for n in A.nodes()]\n",
    "plt.hist(degrees)\n",
    "plt.show()"
   ]
  },
  {
   "cell_type": "markdown",
   "metadata": {},
   "source": [
    "Plot the network (doesn't have to be pretty)."
   ]
  },
  {
   "cell_type": "code",
   "execution_count": 19,
   "metadata": {},
   "outputs": [],
   "source": [
    "# nx.draw_networkx(A)\n",
    "# plt.show()"
   ]
  },
  {
   "cell_type": "markdown",
   "metadata": {},
   "source": [
    "Check if the network is connected:"
   ]
  },
  {
   "cell_type": "code",
   "execution_count": 20,
   "metadata": {},
   "outputs": [
    {
     "data": {
      "text/plain": [
       "False"
      ]
     },
     "execution_count": 20,
     "metadata": {},
     "output_type": "execute_result"
    }
   ],
   "source": [
    "nx.is_connected(A)"
   ]
  },
  {
   "cell_type": "markdown",
   "metadata": {},
   "source": [
    "How many components are there?"
   ]
  },
  {
   "cell_type": "code",
   "execution_count": 21,
   "metadata": {},
   "outputs": [
    {
     "data": {
      "text/plain": [
       "122"
      ]
     },
     "execution_count": 21,
     "metadata": {},
     "output_type": "execute_result"
    }
   ],
   "source": [
    "nx.number_connected_components(A)"
   ]
  },
  {
   "cell_type": "markdown",
   "metadata": {},
   "source": [
    "What is the size of the largest component?"
   ]
  },
  {
   "cell_type": "code",
   "execution_count": 22,
   "metadata": {},
   "outputs": [
    {
     "name": "stdout",
     "output_type": "stream",
     "text": [
      "4388\n"
     ]
    }
   ],
   "source": [
    "cc = nx.connected_components(A)\n",
    "gcc = A.subgraph(max(cc, key=len))\n",
    "#gcc = max(nx.connected_components(A), key=len)\n",
    "print(len(gcc))"
   ]
  },
  {
   "cell_type": "markdown",
   "metadata": {},
   "source": [
    "Plot the largest component (doesn't have to be pretty)."
   ]
  },
  {
   "cell_type": "code",
   "execution_count": 23,
   "metadata": {},
   "outputs": [],
   "source": [
    "# nx.draw_networkx(gcc)\n",
    "# plt.show()"
   ]
  },
  {
   "cell_type": "markdown",
   "metadata": {},
   "source": [
    "### James Franco Number\n",
    "\n",
    "##### (15 points)"
   ]
  },
  {
   "cell_type": "markdown",
   "metadata": {},
   "source": [
    "In the 1990s they were interested in the [Kevin Bacon Number](https://simple.wikipedia.org/wiki/Bacon_number) which on a graph like ours would be the length of the shortest path between a given actress and Kevin Bacon. Also see [The Oracle of Bacon](https://oracleofbacon.org/how.php).\n",
    "\n",
    "Let's do the same with the first actor on our list: James Franco!"
   ]
  },
  {
   "cell_type": "markdown",
   "metadata": {},
   "source": [
    "Use `nx.shortest_path_length` to calculate all James Franco numbers in our graph. Notice NetworkX will calculate this only for James Franco's component, which is good enough for us, but think about what would be the shortest path to unconnected actors and what does this mean about the average you will be getting below."
   ]
  },
  {
   "cell_type": "code",
   "execution_count": 86,
   "metadata": {},
   "outputs": [
    {
     "data": {
      "text/plain": [
       "dict"
      ]
     },
     "execution_count": 86,
     "metadata": {},
     "output_type": "execute_result"
    }
   ],
   "source": [
    "james_franco_number = nx.shortest_path_length(A, target = 'James Franco')\n",
    "type(james_franco_number)"
   ]
  },
  {
   "cell_type": "markdown",
   "metadata": {},
   "source": [
    "What is the average, median, minimum and maximum James Franco number?"
   ]
  },
  {
   "cell_type": "code",
   "execution_count": 87,
   "metadata": {},
   "outputs": [
    {
     "name": "stdout",
     "output_type": "stream",
     "text": [
      "Mean James Franco Number: 2.64\n",
      "Median James Franco Number: 3.00\n",
      "Max James Franco Number: 7.00\n",
      "Min James Franco Number: 0.00\n"
     ]
    }
   ],
   "source": [
    "jf = list(james_franco_number.values())\n",
    "print('Mean James Franco Number: %.2f' % np.mean(jf))\n",
    "print('Median James Franco Number: %.2f' % np.median(jf))\n",
    "print('Max James Franco Number: %.2f' % np.max(jf))\n",
    "print('Min James Franco Number: %.2f' % np.min(jf))"
   ]
  },
  {
   "cell_type": "markdown",
   "metadata": {},
   "source": [
    "What is the percentage of actors having James Franco Number of 3 or less?"
   ]
  },
  {
   "cell_type": "code",
   "execution_count": 26,
   "metadata": {},
   "outputs": [
    {
     "data": {
      "text/plain": [
       "92.41112123974476"
      ]
     },
     "execution_count": 26,
     "metadata": {},
     "output_type": "execute_result"
    }
   ],
   "source": [
    "jf3 = sum(x <= 3 for x in jf)\n",
    "(jf3 / len(jf)) * 100"
   ]
  },
  {
   "cell_type": "markdown",
   "metadata": {},
   "source": [
    "### Centrality\n",
    "\n",
    "##### (15 points)"
   ]
  },
  {
   "cell_type": "markdown",
   "metadata": {},
   "source": [
    "Compute the Degree, Eigen, Pagerank, Closeness and Betweenness centralities (may take some time):"
   ]
  },
  {
   "cell_type": "code",
   "execution_count": 88,
   "metadata": {},
   "outputs": [],
   "source": [
    "cent_deg = nx.degree_centrality(A)\n",
    "cent_eig = nx.eigenvector_centrality(A)\n",
    "cent_pagerank = nx.pagerank(A)\n",
    "cent_closeness = nx.closeness_centrality(A)\n",
    "cent_betweenness = nx.betweenness_centrality(A)"
   ]
  },
  {
   "cell_type": "markdown",
   "metadata": {},
   "source": [
    "Run this chunk to create a DataFrame with 5 columns, one for every centrality measure, and an `actor` column:"
   ]
  },
  {
   "cell_type": "code",
   "execution_count": 28,
   "metadata": {},
   "outputs": [
    {
     "data": {
      "text/html": [
       "<div>\n",
       "<style scoped>\n",
       "    .dataframe tbody tr th:only-of-type {\n",
       "        vertical-align: middle;\n",
       "    }\n",
       "\n",
       "    .dataframe tbody tr th {\n",
       "        vertical-align: top;\n",
       "    }\n",
       "\n",
       "    .dataframe thead th {\n",
       "        text-align: right;\n",
       "    }\n",
       "</style>\n",
       "<table border=\"1\" class=\"dataframe\">\n",
       "  <thead>\n",
       "    <tr style=\"text-align: right;\">\n",
       "      <th></th>\n",
       "      <th>actor</th>\n",
       "      <th>degree</th>\n",
       "      <th>eigen</th>\n",
       "      <th>pagerank</th>\n",
       "      <th>closeness</th>\n",
       "      <th>betweenness</th>\n",
       "    </tr>\n",
       "  </thead>\n",
       "  <tbody>\n",
       "    <tr>\n",
       "      <th>25</th>\n",
       "      <td>Meryl Streep</td>\n",
       "      <td>0.011388</td>\n",
       "      <td>0.031699</td>\n",
       "      <td>0.000496</td>\n",
       "      <td>0.326436</td>\n",
       "      <td>0.001240</td>\n",
       "    </tr>\n",
       "    <tr>\n",
       "      <th>581</th>\n",
       "      <td>Liam Neeson</td>\n",
       "      <td>0.030789</td>\n",
       "      <td>0.094411</td>\n",
       "      <td>0.001342</td>\n",
       "      <td>0.357836</td>\n",
       "      <td>0.011891</td>\n",
       "    </tr>\n",
       "    <tr>\n",
       "      <th>732</th>\n",
       "      <td>James Franco</td>\n",
       "      <td>0.022564</td>\n",
       "      <td>0.051441</td>\n",
       "      <td>0.001038</td>\n",
       "      <td>0.350603</td>\n",
       "      <td>0.007604</td>\n",
       "    </tr>\n",
       "    <tr>\n",
       "      <th>1788</th>\n",
       "      <td>Cate Blanchett</td>\n",
       "      <td>0.012653</td>\n",
       "      <td>0.036013</td>\n",
       "      <td>0.000580</td>\n",
       "      <td>0.325076</td>\n",
       "      <td>0.001890</td>\n",
       "    </tr>\n",
       "  </tbody>\n",
       "</table>\n",
       "</div>"
      ],
      "text/plain": [
       "               actor    degree     eigen  pagerank  closeness  betweenness\n",
       "25      Meryl Streep  0.011388  0.031699  0.000496   0.326436     0.001240\n",
       "581      Liam Neeson  0.030789  0.094411  0.001342   0.357836     0.011891\n",
       "732     James Franco  0.022564  0.051441  0.001038   0.350603     0.007604\n",
       "1788  Cate Blanchett  0.012653  0.036013  0.000580   0.325076     0.001890"
      ]
     },
     "execution_count": 28,
     "metadata": {},
     "output_type": "execute_result"
    }
   ],
   "source": [
    "cent_df = pd.DataFrame([cent_deg, cent_eig, cent_pagerank, cent_closeness, cent_betweenness]).T.reset_index()\n",
    "cent_df.columns = ['actor', 'degree', 'eigen', 'pagerank', 'closeness', 'betweenness']\n",
    "cent_df[cent_df['actor'].isin(['Meryl Streep', 'Liam Neeson', 'James Franco', 'Cate Blanchett'])]"
   ]
  },
  {
   "cell_type": "markdown",
   "metadata": {},
   "source": [
    "Use `cent_df` to print the top 5 central actors for every centrality measure:"
   ]
  },
  {
   "cell_type": "code",
   "execution_count": 29,
   "metadata": {},
   "outputs": [
    {
     "name": "stdout",
     "output_type": "stream",
     "text": [
      "Centrality degree:\n",
      "581        Liam Neeson\n",
      "300       Michael Peña\n",
      "1083    Bryan Cranston\n",
      "549       John Goodman\n",
      "139        Owen Wilson\n",
      "Name: actor, dtype: object\n",
      "\n",
      "Centrality eigen:\n",
      "119         Paul Rudd\n",
      "459    Bradley Cooper\n",
      "581       Liam Neeson\n",
      "143      Steve Carell\n",
      "222      Kristen Wiig\n",
      "Name: actor, dtype: object\n",
      "\n",
      "Centrality pagerank:\n",
      "300       Michael Peña\n",
      "581        Liam Neeson\n",
      "1083    Bryan Cranston\n",
      "468       Kristen Bell\n",
      "549       John Goodman\n",
      "Name: actor, dtype: object\n",
      "\n",
      "Centrality closeness:\n",
      "1043         Emma Stone\n",
      "300        Michael Peña\n",
      "1170    Elizabeth Banks\n",
      "581         Liam Neeson\n",
      "459      Bradley Cooper\n",
      "Name: actor, dtype: object\n",
      "\n",
      "Centrality betweenness:\n",
      "300       Michael Peña\n",
      "581        Liam Neeson\n",
      "1083    Bryan Cranston\n",
      "468       Kristen Bell\n",
      "110     Anthony Mackie\n",
      "Name: actor, dtype: object\n",
      "\n"
     ]
    }
   ],
   "source": [
    "for cent in cent_df.columns[1:]:\n",
    "    print('Centrality %s:' % cent)\n",
    "    print(cent_df.sort_values(cent, ascending=False)['actor'].head(5))\n",
    "    print()"
   ]
  },
  {
   "cell_type": "markdown",
   "metadata": {},
   "source": [
    "**Do you see the actor which is in the top 5 centrality by any measure? Look at this actor's films list and write why he's so central.**"
   ]
  },
  {
   "cell_type": "code",
   "execution_count": 30,
   "metadata": {},
   "outputs": [
    {
     "data": {
      "text/plain": [
       "['The A-Team',\n",
       " 'The Chronicles of Narnia: The Voyage of the Dawn Treader',\n",
       " 'Clash of the Titans',\n",
       " 'The Next Three Days',\n",
       " 'Unknown',\n",
       " 'Battleship',\n",
       " 'The Grey',\n",
       " 'Star Wars: Episode I – The Phantom Menace 3D',\n",
       " 'Wrath of the Titans',\n",
       " 'Anchorman 2: The Legend Continues',\n",
       " 'The Nut Job',\n",
       " 'Non-Stop',\n",
       " 'A Walk Among the Tombstones',\n",
       " 'Taken 3',\n",
       " 'Run All Night',\n",
       " 'Mark Felt: The Man Who Brought Down the White House',\n",
       " 'The Commuter',\n",
       " 'The Ballad of Buster Scruggs',\n",
       " 'Widows',\n",
       " 'Cold Pursuit',\n",
       " 'Men in Black: International']"
      ]
     },
     "execution_count": 30,
     "metadata": {},
     "output_type": "execute_result"
    }
   ],
   "source": [
    "### ???\n",
    "ln = films_actors_edgelist.loc[films_actors_edgelist['actor']==\"Liam Neeson\", 'film'].to_list()\n",
    "ln"
   ]
  },
  {
   "cell_type": "markdown",
   "metadata": {},
   "source": [
    "### Community Detection\n",
    "\n",
    "##### (15 points)"
   ]
  },
  {
   "cell_type": "markdown",
   "metadata": {
    "tags": []
   },
   "source": [
    "Use the Louvain method to detect communities of actors in **the giant component** of our network. Use `seed=42`."
   ]
  },
  {
   "cell_type": "code",
   "execution_count": 89,
   "metadata": {},
   "outputs": [],
   "source": [
    "communities = nx.community.louvain_communities(gcc, seed=42)"
   ]
  },
  {
   "cell_type": "markdown",
   "metadata": {},
   "source": [
    "What is the modularity of the partition found by the algorithm?"
   ]
  },
  {
   "cell_type": "code",
   "execution_count": 90,
   "metadata": {},
   "outputs": [
    {
     "name": "stdout",
     "output_type": "stream",
     "text": [
      "0.462588067700965\n"
     ]
    }
   ],
   "source": [
    "print(nx.community.modularity(gcc, communities))"
   ]
  },
  {
   "cell_type": "markdown",
   "metadata": {},
   "source": [
    "How many communities were found by the Louvain method? What is the average, median, minimum and maximum community size?"
   ]
  },
  {
   "cell_type": "code",
   "execution_count": 47,
   "metadata": {},
   "outputs": [
    {
     "name": "stdout",
     "output_type": "stream",
     "text": [
      "Number of communities: 27\n",
      "Mean degree: 162.52\n",
      "Median degree: 133.00\n",
      "Max degree: 502.00\n",
      "Min degree: 20.00\n"
     ]
    }
   ],
   "source": [
    "communities_size = [len(community) for community in communities]\n",
    "print('Number of communities: %.2d' % len(communities))\n",
    "print('Mean degree: %.2f' % np.mean(communities_size))\n",
    "print('Median degree: %.2f' % np.median(communities_size))\n",
    "print('Max degree: %.2f' % np.max(communities_size))\n",
    "print('Min degree: %.2f' % np.min(communities_size))"
   ]
  },
  {
   "cell_type": "markdown",
   "metadata": {},
   "source": [
    "In order to make some sense of the community structure found by the Louvain method, let us filter for each community only A-list actors, e.g. actors with at least 5 films in the decade. Also sort the actors alphabetically in each list:"
   ]
  },
  {
   "cell_type": "code",
   "execution_count": 69,
   "metadata": {},
   "outputs": [
    {
     "name": "stdout",
     "output_type": "stream",
     "text": [
      "Found 722 actors with at least 5 films\n"
     ]
    }
   ],
   "source": [
    "actor2n_films = films_actors_edgelist.groupby('actor').size().to_dict()\n",
    "a_list = [actor for actor, n_films in actor2n_films.items() if n_films >= 5]\n",
    "print('Found %d actors with at least 5 films' % len(a_list))\n",
    "communities_a_list = [[actor for actor in community if actor in a_list] for community in communities]"
   ]
  },
  {
   "cell_type": "markdown",
   "metadata": {},
   "source": [
    "For each community filtered print its actors:"
   ]
  },
  {
   "cell_type": "code",
   "execution_count": 70,
   "metadata": {},
   "outputs": [
    {
     "name": "stdout",
     "output_type": "stream",
     "text": [
      "['Patricia Clarkson', 'Amy Seimetz', 'Ian McShane', 'Jeffrey Wright', 'Ted Levine', 'Jennifer Lawrence', 'Julianne Moore', 'Rafe Spall', 'Josh Hutcherson', 'Billy Crudup', 'Michelle Williams', 'Liam Hemsworth', 'Stanley Tucci', 'Ray Winstone', 'Woody Harrelson', 'Logan Lerman', 'Marisa Tomei', 'Djimon Hounsou', 'Elizabeth Banks', 'Toby Jones', 'Philip Seymour Hoffman', 'Sam Claflin', 'Jena Malone', 'Blake Lively']\n",
      "\n",
      "['Regina Hall', 'Danny Glover', 'Loretta Devine', 'Tika Sumpter', 'Kevin Hart', 'Carmen Ejogo', 'Michael Ealy', 'Gabrielle Union', 'Mike Epps', 'Tyler Perry', 'Chad Michael Murray', 'Awkwafina', 'Danny DeVito']\n",
      "\n",
      "['Christina Applegate', 'Jim Carrey', 'Brian Geraghty', 'Jenny Slate', 'Nicole Kidman', 'Harrison Ford', 'Joel Kinnaman', 'Jesse Plemons', 'Megan Fox', 'Paul Rudd', 'Tommy Lee Jones', 'Diane Kruger', 'Amy Poehler', 'Will Smith', 'Kristen Wiig', 'Taylor Kitsch', 'Fred Armisen', 'Luke Wilson', 'David Koechner', 'Frank Langella', 'Jemaine Clement', 'Ansel Elgort', 'Justin Long', 'Teresa Palmer', 'Anna Faris', 'Liam Neeson', 'Tina Fey', 'Vince Vaughn', 'David Cross', 'James Marsden', 'Kirsten Dunst', 'Will Ferrell', 'Michiel Huisman', 'Meagan Good', 'Joaquin Phoenix', 'Steve Carell', 'Greg Kinnear', 'Lucy Punch', 'Hamish Linklater']\n",
      "\n",
      "['Bill Pullman', 'Armie Hammer', 'Dane DeHaan', 'Albert Brooks', \"Denis O'Hare\", 'Dermot Mulroney', 'Naomi Watts', 'Dev Patel', 'Jennifer Jason Leigh', 'Marton Csokas', 'Eric Bana', 'Julianne Nicholson', 'Willem Dafoe', 'Judi Dench', 'Stephen Root', 'Daniel Craig', 'Allison Janney', 'Josh Lucas', 'Rachel Weisz']\n",
      "\n",
      "['Jennifer Ehle', 'Annette Bening', 'Robin Williams', 'Mark Strong', 'Corey Stoll', 'Lucas Hedges', 'Hugo Weaving', 'Mark Duplass', 'Mel Gibson', 'Common', 'Sean Penn', 'Shia LaBeouf', 'Keith David', 'Rosemarie DeWitt', 'Lukas Haas', 'Geoffrey Rush', 'Katie Holmes', 'Sam Neill', 'Bailee Madison', 'Ed Harris', 'Helen Mirren', 'Ben Whishaw', 'Nick Nolte', 'Jason Clarke', 'Édgar Ramírez', 'Matt Damon', 'Frank Grillo', 'Elle Fanning', 'Thomas Haden Church', 'Joel Edgerton', 'Joe Alwyn', 'Jon Bernthal', 'Guy Pearce', 'Russell Crowe', 'Tom Hardy', 'Jessica Chastain', 'Brit Marling', 'Mia Wasikowska']\n",
      "\n",
      "['John Lithgow', 'Richard Jenkins', 'John Cusack', 'Octavia Spencer', 'Nicolas Cage', 'Elisabeth Moss', 'Gugu Mbatha-Raw', 'Terrence Howard', 'Aaron Eckhart', 'Amber Heard', 'Laz Alonso', 'James Franco', 'Matthew McConaughey', 'David Oyelowo', 'Gerard Butler', 'Lizzy Caplan', 'Kate Mara', 'Ty Burrell', 'Jake Johnson', 'Melissa Leo', 'Gary Cole', 'Blythe Danner', 'Vanessa Hudgens', 'Kevin Costner', 'Liev Schreiber', 'Kate Hudson', 'Viola Davis', 'Robert Duvall', 'Sarah Paulson', 'Ben Mendelsohn', 'Zach Galifianakis', 'Emma Stone', 'Hailee Steinfeld', 'Chris Pine', 'Juliette Lewis', 'Lucas Till', 'Brian Tyree Henry', 'Joey King', 'Tom Felton', 'Kathryn Hahn', 'Dan Stevens', 'Giovanni Ribisi', 'Robert Forster', 'Kate Bosworth', 'Michael Shannon', 'Sam Shepard', 'Michael Peña', 'William Fichtner', 'Kate McKinnon', 'Mike Vogel', 'Nate Parker', 'Kristin Chenoweth', 'Reese Witherspoon', 'Olivia Cooke', 'John Malkovich', 'Zoë Kravitz', 'Diane Lane']\n",
      "\n",
      "['Tom Hanks', 'Bob Odenkirk', 'Cheech Marin', 'Kristen Schaal', 'Christopher Walken', 'Christina Hendricks', 'Tim Allen', 'John Ratzenberger', 'Keegan-Michael Key', 'Owen Wilson', 'Emily Mortimer', 'Catherine Keener', 'Jason Isaacs', 'Joan Cusack', 'Saoirse Ronan', 'Emily Watson', 'Meryl Streep', 'Keanu Reeves', 'Whoopi Goldberg', 'Chris Cooper', 'Michael Caine', 'Michael Keaton', 'Timothée Chalamet']\n",
      "\n",
      "['John Travolta', 'Virginia Madsen', 'Kevin Spacey', 'Glenn Close', 'Gabriel Iglesias', 'Brad Garrett', 'Stephen Dorff', 'Winona Ryder', 'Amy Ryan', 'Heather Graham', 'Craig Robinson', 'Stacy Keach', 'Jane Levy', 'Cedric the Entertainer', 'Jonathan Pryce', 'Bill Hader', 'Max Irons', 'Barry Pepper', 'Johnny Knoxville', 'Ben Stiller']\n",
      "\n",
      "['Julia Roberts', 'Jennifer Garner', 'Hank Azaria', 'Mindy Kaling', 'Alan Cumming', 'Anton Yelchin', 'Halle Berry', 'Jessica Alba', 'Hilary Swank', 'Jessica Biel', 'Sarah Silverman', 'Josh Duhamel', 'Neil Patrick Harris', 'George Lopez', 'Zac Efron', 'Sofía Vergara', 'Lin Shaye', 'Kenan Thompson', 'Abigail Breslin', 'Julianne Hough', 'Katherine Heigl', 'Jane Lynch', 'Alec Baldwin', 'Dennis Haysbert', 'Michelle Pfeiffer', 'Robert De Niro', 'Ashton Kutcher', 'Anne Hathaway', 'Shirley MacLaine', 'Jack McBrayer']\n",
      "\n",
      "['Christopher Mintz-Plasse', 'Logan Marshall-Green', 'Leonardo DiCaprio', 'Michael Parks', 'Emile Hirsch', 'Kerry Washington', 'Felicity Jones', 'Scoot McNairy', 'John Goodman', 'Ben Affleck', 'Danny Trejo', 'Alan Alda', 'Al Pacino', 'Taylor Schilling', 'Timothy Olyphant', 'Walton Goggins', 'Kate Winslet', 'Casey Affleck', 'Jonah Hill', 'Alan Arkin', 'Philip Baker Hall', 'Bokeem Woodbine', 'Christoph Waltz', 'Victor Garber', 'Billy Zane', 'Don Johnson', 'Bill Paxton', 'Kathy Bates', 'Laurence Fishburne', 'Kodi Smit-McPhee', 'Chris Messina', 'Bruce Dern', 'Margot Robbie', 'Leslie Mann', 'Adrien Brody', 'Ben Foster', 'Jamie Foxx', 'Bryan Cranston']\n",
      "\n",
      "['Chloë Sevigny', 'Chris Mulkey', 'Will Poulter', 'Tilda Swinton', 'Lakeith Stanfield', 'Jake Gyllenhaal', 'Edward Norton', 'Bill Murray', 'Jason Momoa', 'Brad Pitt', 'Harvey Keitel', 'Topher Grace', 'Ethan Hawke', 'Steven Yeun', 'Paul Dano', 'Ron Perlman', 'Selena Gomez', 'Ben Kingsley', 'Devon Bostick', 'Imogen Poots', 'Brett Cullen', 'Lily Collins', 'Robert Sheehan']\n",
      "\n",
      "['Jennifer Connelly', 'Greta Gerwig', 'Benjamin Bratt', 'Will Arnett', 'Olivia Thirlby', 'Anna Paquin', 'Adam Brody', 'Ed Skrein', 'Aaron Paul', 'Dean Norris', 'Analeigh Tipton', 'Tim Blake Nelson', 'Emma Roberts', 'Rashida Jones', 'Dianne Wiest', 'Jason Segel', 'Gael García Bernal', 'Anjelica Huston', 'Billy Magnussen', 'Kristen Bell', 'Edward James Olmos', 'Diego Luna', 'Mila Kunis', 'Jack Black', 'Dave Franco', 'Alison Brie', 'Joel McHale', 'Rosamund Pike', 'Kevin Pollak', 'Nick Offerman']\n",
      "\n",
      "['Robert Patrick', 'Danny McBride', 'Steve Buscemi', 'Leighton Meester', 'Aubrey Plaza', 'Maria Bello', 'Rob Riggle', 'Milo Ventimiglia', 'Jon Favreau', 'Isla Fisher', 'Patton Oswalt', 'Bobby Moynihan', 'Maya Rudolph', 'Jim Gaffigan', 'Melissa McCarthy', 'Jon Hamm', 'James Caan', 'Lake Bell', 'Nathan Fillion', 'Leslie Bibb', 'Lisa Kudrow', 'Ken Jeong', 'Jacob Tremblay', 'Wendi McLendon-Covey', 'Jason Sudeikis', 'Alfred Molina', 'Jay Baruchel', 'Tyler Labine', 'Nick Kroll', 'Will Forte', 'Rosario Dawson', 'Clark Duke', 'Kevin James', 'Jennifer Aniston', 'Eugenio Derbez', 'Salma Hayek', 'Andy Samberg', 'Nick Swardson', 'John Krasinski', 'Jason Bateman', 'Charlie Day', 'Chris Rock', 'Tiffany Haddish', 'Brendan Fraser']\n",
      "\n",
      "['Lily James', 'Catherine Zeta-Jones', 'Brenton Thwaites', 'Matthew Lillard', 'Asa Butterfield', 'Justin Bartha', 'Bill Nighy', 'Imelda Staunton', 'Colin Firth', 'Julie Walters', 'Alan Rickman', 'Maggie Smith', 'Katherine Waterston', 'Emma Watson', 'Nicholas Hoult', 'Kaya Scodelario', 'Patrick Stewart', 'Emily Blunt', 'Brendan Gleeson', 'Steve Coogan', 'Malin Åkerman', 'Oliver Platt', 'Emma Thompson', 'Chloë Grace Moretz', 'Danny Huston', 'Juno Temple', 'Boyd Holbrook', 'Craig Ferguson', 'Claire Foy', 'Taron Egerton', 'Hugh Jackman', 'Javier Bardem', 'Matt Lucas', 'Ralph Fiennes', 'Stana Katic', 'Daniel Radcliffe', 'Rebecca Hall', 'Sam Worthington', 'Dan Fogler', 'Alice Eve', 'Hugh Laurie', 'Stephen Merchant', 'Helena Bonham Carter', 'Jude Law', 'Johnny Depp', 'Eddie Redmayne']\n",
      "\n",
      "['Carla Gugino', 'Jacki Weaver', 'Jeffrey Tambor', 'David Harbour', 'Melanie Lynskey', 'Michelle Monaghan', 'Kevin Kline', 'Kim Basinger', 'Reid Scott', 'Jamie Chung', 'Amy Schumer', 'Connie Britton', 'Dakota Johnson', 'Jamie Dornan', 'Richard Schiff', 'Ron Livingston', 'Billy Bob Thornton', 'Paul Giamatti', 'Jackie Earle Haley', 'Miles Teller', 'Diane Keaton', 'Rob Lowe', 'Derek Luke', 'James Badge Dale', 'Marcia Gay Harden', 'Clancy Brown', 'Mary Steenburgen', 'John Hawkes']\n",
      "\n",
      "['Demián Bichir', 'Adam Scott', 'Eva Longoria', 'Terry Crews', 'Elisabeth Shue', 'John Cho', 'Ving Rhames', 'Andrew Garfield', 'Ice Cube', 'Snoop Dogg', 'Charlie Sheen', 'Molly Shannon', 'Christopher Lloyd', 'Rhys Ifans', 'Tony Revolori']\n",
      "\n",
      "['Garret Dillahunt', 'Tracy Morgan', 'Chiwetel Ejiofor', 'Gary Oldman', 'Sylvester Stallone', 'Jackie Chan', 'Arnold Schwarzenegger', 'Seth Rogen', 'Mickey Rourke', 'Alfre Woodard', 'Bobby Cannavale', 'Jason Statham', 'Dolph Lundgren', \"Vincent D'Onofrio\", 'Bruce Willis', 'Angelina Jolie', 'James Woods']\n",
      "\n",
      "['Natalie Portman', 'Christopher Plummer', 'Keira Knightley', 'Jeremy Irons', 'Dennis Quaid', 'Angela Bassett', 'Robin Wright', 'Charlize Theron', 'Ray Liotta', 'Laura Dern', 'Carey Mulligan', 'Daisy Ridley', 'Amy Adams', 'Alex Pettyfer', 'Dominic Cooper', 'Gwyneth Paltrow', 'Daniel Brühl', 'Jai Courtney', 'Ewan McGregor', 'James Corden', 'Rose Byrne', 'Dwayne Johnson', 'Brie Larson', 'Benicio del Toro', 'Eddie Marsan', 'Justin Timberlake', 'Matt Dillon', 'Gina Rodriguez', 'Rachel McAdams', 'Britt Robertson', 'Sam Rockwell', 'Michelle Rodriguez', 'Anthony Mackie', 'Naomie Harris', 'Dave Bautista', 'Paul Bettany', 'Colin Farrell', 'Shailene Woodley', 'Idris Elba', 'Charlie Hunnam', 'Jeff Goldblum', 'Maika Monroe', 'Michael Fassbender', 'Adam Driver', 'Judy Greer', 'Rainn Wilson', 'Margo Martindale', 'Mary-Louise Parker', 'Garrett Hedlund', 'Chris Pratt', 'Patrick Wilson', 'Bruce Greenwood', 'Mark Ruffalo', 'Rene Russo', 'Zachary Quinto', 'Shea Whigham', \"Dylan O'Brien\", 'John Ortiz', 'Andy Serkis', 'Morgan Freeman', \"Lupita Nyong'o\", 'Mark Hamill', 'Ashley Judd', 'Tessa Thompson', 'Stellan Skarsgård', 'Ari Graynor', 'Justin Theroux', 'Rebecca Ferguson', 'Ray Stevenson', 'John Cena', 'Ryan Gosling', 'Forest Whitaker', 'Jesse Eisenberg', 'Tom Hiddleston', 'George Clooney', 'Scott Eastwood', 'Zoe Saldana', 'Denzel Washington', 'Benedict Cumberbatch', 'Kurt Russell', 'Jeffrey Dean Morgan', 'Ryan Reynolds', 'Kumail Nanjiani', 'Kevin Bacon', 'Riley Keough', 'Mark Wahlberg', 'Elizabeth Olsen', 'Luke Evans', \"Chris O'Dowd\", 'Chadwick Boseman', 'Mary Elizabeth Winstead', 'Isabela Moner', 'Vin Diesel', 'Christian Bale', 'Cillian Murphy', 'Karl Urban', 'Noomi Rapace', 'Bradley Cooper', 'Zazie Beetz', 'Domhnall Gleeson', 'Chris Hemsworth', 'Peter Dinklage', 'Toby Kebbell', 'Chris Evans', 'Mark Webber', 'Michael Cera', 'Olivia Wilde', 'Jenna Fischer', 'Cliff Curtis', 'Adewale Akinnuoye-Agbaje', 'Tyrese Gibson', 'Oscar Isaac', 'Don Cheadle', 'Paul Walker', 'Anthony Hopkins', 'Sebastian Stan', 'Jason Schwartzman', 'Sharlto Copley', 'Cate Blanchett', 'Joseph Gordon-Levitt', 'Kris Kristofferson', 'Josh Brolin', 'Olivia Munn', 'Scarlett Johansson', 'Martin Freeman', 'Karen Gillan', 'Rooney Mara', 'Elizabeth Debicki', 'Linda Cardellini', 'Channing Tatum', 'Michael Douglas', 'John Boyega']\n",
      "\n",
      "['Lee Pace', 'Aidan Gillen', 'Nikki Reed', 'Michael Angarano', 'Michael Sheen', 'Kristen Stewart', 'Kellan Lutz', 'Alicia Silverstone', 'Maggie Grace', 'Rami Malek', 'Ashley Greene', 'Jackson Rathbone', 'Dakota Fanning', 'Richard Gere', 'Elizabeth Reaser', 'Robert Pattinson', 'Billy Burke', 'Bryce Dallas Howard', 'Taylor Lautner']\n",
      "\n",
      "['Jeremy Renner', 'Tom Cruise', 'Sean Harris', 'Seann William Scott', 'America Ferrera', 'Alan Tudyk', 'Anna Camp', 'Cameron Diaz', 'Rebel Wilson', 'Brittany Snow', 'Queen Latifah', 'Cary Elwes', 'Paula Patton', 'Ciarán Hinds', 'Jamie Bell', 'Simon Pegg', 'Frances Fisher', 'Evan Rachel Wood', 'Josh Gad', 'John Leguizamo', 'Gemma Arterton', 'Tom Wilkinson', 'Nick Frost', 'Peter Stormare', 'Rodrigo Santoro', 'Thomas Mann', 'Anna Kendrick', 'Jennifer Lopez']\n",
      "\n",
      "['Sally Hawkins', 'Bradley Whitford', 'Vera Farmiga', 'Kate Beckinsale', 'David Strathairn', 'John Corbett', 'Theo James', 'Jeff Bridges', 'Bill Camp', 'Pierce Brosnan', 'Peter Sarsgaard']\n",
      "\n"
     ]
    }
   ],
   "source": [
    "for actors in communities_a_list:\n",
    "    if len(actors) > 10:\n",
    "        print(actors)\n",
    "        print()"
   ]
  },
  {
   "cell_type": "markdown",
   "metadata": {},
   "source": [
    "It's extremely hard to make sense of the communities and some of them don't really make sense, but if you followed thus far, you can see a few interesting ones.\n",
    "\n",
    "Write a function which takes an A-list actor's name, and returns the (A-list) community to which this actor belongs (or an empty list of the actor was not found):"
   ]
  },
  {
   "cell_type": "code",
   "execution_count": 79,
   "metadata": {},
   "outputs": [],
   "source": [
    "def get_actor_community(actor):\n",
    "    for community in communities_a_list:\n",
    "        if actor in community:\n",
    "            return community\n",
    "    return [] #empty list if the actor was not found"
   ]
  },
  {
   "cell_type": "markdown",
   "metadata": {},
   "source": [
    "The Scarlett Johansson community looks like a \"blockbuster\" community, with all the Marvel stars (Chris Hemsworth, Chris Prat, Benedict Cumberbatch, Chadwick Boseman, Brie Larson, Idris Elba, Mark Ruffalo etc.)."
   ]
  },
  {
   "cell_type": "code",
   "execution_count": 80,
   "metadata": {},
   "outputs": [
    {
     "data": {
      "text/plain": [
       "['Natalie Portman',\n",
       " 'Christopher Plummer',\n",
       " 'Keira Knightley',\n",
       " 'Jeremy Irons',\n",
       " 'Dennis Quaid',\n",
       " 'Angela Bassett',\n",
       " 'Robin Wright',\n",
       " 'Charlize Theron',\n",
       " 'Ray Liotta',\n",
       " 'Laura Dern',\n",
       " 'Carey Mulligan',\n",
       " 'Daisy Ridley',\n",
       " 'Amy Adams',\n",
       " 'Alex Pettyfer',\n",
       " 'Dominic Cooper',\n",
       " 'Gwyneth Paltrow',\n",
       " 'Daniel Brühl',\n",
       " 'Jai Courtney',\n",
       " 'Ewan McGregor',\n",
       " 'James Corden',\n",
       " 'Rose Byrne',\n",
       " 'Dwayne Johnson',\n",
       " 'Brie Larson',\n",
       " 'Benicio del Toro',\n",
       " 'Eddie Marsan',\n",
       " 'Justin Timberlake',\n",
       " 'Matt Dillon',\n",
       " 'Gina Rodriguez',\n",
       " 'Rachel McAdams',\n",
       " 'Britt Robertson',\n",
       " 'Sam Rockwell',\n",
       " 'Michelle Rodriguez',\n",
       " 'Anthony Mackie',\n",
       " 'Naomie Harris',\n",
       " 'Dave Bautista',\n",
       " 'Paul Bettany',\n",
       " 'Colin Farrell',\n",
       " 'Shailene Woodley',\n",
       " 'Idris Elba',\n",
       " 'Charlie Hunnam',\n",
       " 'Jeff Goldblum',\n",
       " 'Maika Monroe',\n",
       " 'Michael Fassbender',\n",
       " 'Adam Driver',\n",
       " 'Judy Greer',\n",
       " 'Rainn Wilson',\n",
       " 'Margo Martindale',\n",
       " 'Mary-Louise Parker',\n",
       " 'Garrett Hedlund',\n",
       " 'Chris Pratt',\n",
       " 'Patrick Wilson',\n",
       " 'Bruce Greenwood',\n",
       " 'Mark Ruffalo',\n",
       " 'Rene Russo',\n",
       " 'Zachary Quinto',\n",
       " 'Shea Whigham',\n",
       " \"Dylan O'Brien\",\n",
       " 'John Ortiz',\n",
       " 'Andy Serkis',\n",
       " 'Morgan Freeman',\n",
       " \"Lupita Nyong'o\",\n",
       " 'Mark Hamill',\n",
       " 'Ashley Judd',\n",
       " 'Tessa Thompson',\n",
       " 'Stellan Skarsgård',\n",
       " 'Ari Graynor',\n",
       " 'Justin Theroux',\n",
       " 'Rebecca Ferguson',\n",
       " 'Ray Stevenson',\n",
       " 'John Cena',\n",
       " 'Ryan Gosling',\n",
       " 'Forest Whitaker',\n",
       " 'Jesse Eisenberg',\n",
       " 'Tom Hiddleston',\n",
       " 'George Clooney',\n",
       " 'Scott Eastwood',\n",
       " 'Zoe Saldana',\n",
       " 'Denzel Washington',\n",
       " 'Benedict Cumberbatch',\n",
       " 'Kurt Russell',\n",
       " 'Jeffrey Dean Morgan',\n",
       " 'Ryan Reynolds',\n",
       " 'Kumail Nanjiani',\n",
       " 'Kevin Bacon',\n",
       " 'Riley Keough',\n",
       " 'Mark Wahlberg',\n",
       " 'Elizabeth Olsen',\n",
       " 'Luke Evans',\n",
       " \"Chris O'Dowd\",\n",
       " 'Chadwick Boseman',\n",
       " 'Mary Elizabeth Winstead',\n",
       " 'Isabela Moner',\n",
       " 'Vin Diesel',\n",
       " 'Christian Bale',\n",
       " 'Cillian Murphy',\n",
       " 'Karl Urban',\n",
       " 'Noomi Rapace',\n",
       " 'Bradley Cooper',\n",
       " 'Zazie Beetz',\n",
       " 'Domhnall Gleeson',\n",
       " 'Chris Hemsworth',\n",
       " 'Peter Dinklage',\n",
       " 'Toby Kebbell',\n",
       " 'Chris Evans',\n",
       " 'Mark Webber',\n",
       " 'Michael Cera',\n",
       " 'Olivia Wilde',\n",
       " 'Jenna Fischer',\n",
       " 'Cliff Curtis',\n",
       " 'Adewale Akinnuoye-Agbaje',\n",
       " 'Tyrese Gibson',\n",
       " 'Oscar Isaac',\n",
       " 'Don Cheadle',\n",
       " 'Paul Walker',\n",
       " 'Anthony Hopkins',\n",
       " 'Sebastian Stan',\n",
       " 'Jason Schwartzman',\n",
       " 'Sharlto Copley',\n",
       " 'Cate Blanchett',\n",
       " 'Joseph Gordon-Levitt',\n",
       " 'Kris Kristofferson',\n",
       " 'Josh Brolin',\n",
       " 'Olivia Munn',\n",
       " 'Scarlett Johansson',\n",
       " 'Martin Freeman',\n",
       " 'Karen Gillan',\n",
       " 'Rooney Mara',\n",
       " 'Elizabeth Debicki',\n",
       " 'Linda Cardellini',\n",
       " 'Channing Tatum',\n",
       " 'Michael Douglas',\n",
       " 'John Boyega']"
      ]
     },
     "execution_count": 80,
     "metadata": {},
     "output_type": "execute_result"
    }
   ],
   "source": [
    "get_actor_community('Scarlett Johansson')"
   ]
  },
  {
   "cell_type": "markdown",
   "metadata": {},
   "source": [
    "The Tina Fey community looks like a \"softer\" films community, it includes Amy Poehler, Jim Carrey, Paul Rudd, Will Ferrell, etc."
   ]
  },
  {
   "cell_type": "code",
   "execution_count": 81,
   "metadata": {},
   "outputs": [
    {
     "data": {
      "text/plain": [
       "['Christina Applegate',\n",
       " 'Jim Carrey',\n",
       " 'Brian Geraghty',\n",
       " 'Jenny Slate',\n",
       " 'Nicole Kidman',\n",
       " 'Harrison Ford',\n",
       " 'Joel Kinnaman',\n",
       " 'Jesse Plemons',\n",
       " 'Megan Fox',\n",
       " 'Paul Rudd',\n",
       " 'Tommy Lee Jones',\n",
       " 'Diane Kruger',\n",
       " 'Amy Poehler',\n",
       " 'Will Smith',\n",
       " 'Kristen Wiig',\n",
       " 'Taylor Kitsch',\n",
       " 'Fred Armisen',\n",
       " 'Luke Wilson',\n",
       " 'David Koechner',\n",
       " 'Frank Langella',\n",
       " 'Jemaine Clement',\n",
       " 'Ansel Elgort',\n",
       " 'Justin Long',\n",
       " 'Teresa Palmer',\n",
       " 'Anna Faris',\n",
       " 'Liam Neeson',\n",
       " 'Tina Fey',\n",
       " 'Vince Vaughn',\n",
       " 'David Cross',\n",
       " 'James Marsden',\n",
       " 'Kirsten Dunst',\n",
       " 'Will Ferrell',\n",
       " 'Michiel Huisman',\n",
       " 'Meagan Good',\n",
       " 'Joaquin Phoenix',\n",
       " 'Steve Carell',\n",
       " 'Greg Kinnear',\n",
       " 'Lucy Punch',\n",
       " 'Hamish Linklater']"
      ]
     },
     "execution_count": 81,
     "metadata": {},
     "output_type": "execute_result"
    }
   ],
   "source": [
    "get_actor_community('Tina Fey')"
   ]
  },
  {
   "cell_type": "markdown",
   "metadata": {},
   "source": [
    "The Helena Bonham Carter community looks like the \"Brits\" community, it includes: Alan Rickman, Emily Blunt, Hugh Laurie, Emma Watson, Daniel Radcliffe, Ralph Fiennes, Maggie Smith etc."
   ]
  },
  {
   "cell_type": "code",
   "execution_count": 82,
   "metadata": {},
   "outputs": [
    {
     "data": {
      "text/plain": [
       "['Lily James',\n",
       " 'Catherine Zeta-Jones',\n",
       " 'Brenton Thwaites',\n",
       " 'Matthew Lillard',\n",
       " 'Asa Butterfield',\n",
       " 'Justin Bartha',\n",
       " 'Bill Nighy',\n",
       " 'Imelda Staunton',\n",
       " 'Colin Firth',\n",
       " 'Julie Walters',\n",
       " 'Alan Rickman',\n",
       " 'Maggie Smith',\n",
       " 'Katherine Waterston',\n",
       " 'Emma Watson',\n",
       " 'Nicholas Hoult',\n",
       " 'Kaya Scodelario',\n",
       " 'Patrick Stewart',\n",
       " 'Emily Blunt',\n",
       " 'Brendan Gleeson',\n",
       " 'Steve Coogan',\n",
       " 'Malin Åkerman',\n",
       " 'Oliver Platt',\n",
       " 'Emma Thompson',\n",
       " 'Chloë Grace Moretz',\n",
       " 'Danny Huston',\n",
       " 'Juno Temple',\n",
       " 'Boyd Holbrook',\n",
       " 'Craig Ferguson',\n",
       " 'Claire Foy',\n",
       " 'Taron Egerton',\n",
       " 'Hugh Jackman',\n",
       " 'Javier Bardem',\n",
       " 'Matt Lucas',\n",
       " 'Ralph Fiennes',\n",
       " 'Stana Katic',\n",
       " 'Daniel Radcliffe',\n",
       " 'Rebecca Hall',\n",
       " 'Sam Worthington',\n",
       " 'Dan Fogler',\n",
       " 'Alice Eve',\n",
       " 'Hugh Laurie',\n",
       " 'Stephen Merchant',\n",
       " 'Helena Bonham Carter',\n",
       " 'Jude Law',\n",
       " 'Johnny Depp',\n",
       " 'Eddie Redmayne']"
      ]
     },
     "execution_count": 82,
     "metadata": {},
     "output_type": "execute_result"
    }
   ],
   "source": [
    "get_actor_community('Helena Bonham Carter')"
   ]
  },
  {
   "cell_type": "markdown",
   "metadata": {},
   "source": [
    "**Not all communities make sense**\n",
    "\n",
    "For example Daisy Ridley's community incorporates her Star Wars colleagues (Mark Hamill, John Boyega, Adam Driver), but also... Jenna Fischer and Laura Dern."
   ]
  },
  {
   "cell_type": "code",
   "execution_count": 83,
   "metadata": {},
   "outputs": [
    {
     "data": {
      "text/plain": [
       "['Natalie Portman',\n",
       " 'Christopher Plummer',\n",
       " 'Keira Knightley',\n",
       " 'Jeremy Irons',\n",
       " 'Dennis Quaid',\n",
       " 'Angela Bassett',\n",
       " 'Robin Wright',\n",
       " 'Charlize Theron',\n",
       " 'Ray Liotta',\n",
       " 'Laura Dern',\n",
       " 'Carey Mulligan',\n",
       " 'Daisy Ridley',\n",
       " 'Amy Adams',\n",
       " 'Alex Pettyfer',\n",
       " 'Dominic Cooper',\n",
       " 'Gwyneth Paltrow',\n",
       " 'Daniel Brühl',\n",
       " 'Jai Courtney',\n",
       " 'Ewan McGregor',\n",
       " 'James Corden',\n",
       " 'Rose Byrne',\n",
       " 'Dwayne Johnson',\n",
       " 'Brie Larson',\n",
       " 'Benicio del Toro',\n",
       " 'Eddie Marsan',\n",
       " 'Justin Timberlake',\n",
       " 'Matt Dillon',\n",
       " 'Gina Rodriguez',\n",
       " 'Rachel McAdams',\n",
       " 'Britt Robertson',\n",
       " 'Sam Rockwell',\n",
       " 'Michelle Rodriguez',\n",
       " 'Anthony Mackie',\n",
       " 'Naomie Harris',\n",
       " 'Dave Bautista',\n",
       " 'Paul Bettany',\n",
       " 'Colin Farrell',\n",
       " 'Shailene Woodley',\n",
       " 'Idris Elba',\n",
       " 'Charlie Hunnam',\n",
       " 'Jeff Goldblum',\n",
       " 'Maika Monroe',\n",
       " 'Michael Fassbender',\n",
       " 'Adam Driver',\n",
       " 'Judy Greer',\n",
       " 'Rainn Wilson',\n",
       " 'Margo Martindale',\n",
       " 'Mary-Louise Parker',\n",
       " 'Garrett Hedlund',\n",
       " 'Chris Pratt',\n",
       " 'Patrick Wilson',\n",
       " 'Bruce Greenwood',\n",
       " 'Mark Ruffalo',\n",
       " 'Rene Russo',\n",
       " 'Zachary Quinto',\n",
       " 'Shea Whigham',\n",
       " \"Dylan O'Brien\",\n",
       " 'John Ortiz',\n",
       " 'Andy Serkis',\n",
       " 'Morgan Freeman',\n",
       " \"Lupita Nyong'o\",\n",
       " 'Mark Hamill',\n",
       " 'Ashley Judd',\n",
       " 'Tessa Thompson',\n",
       " 'Stellan Skarsgård',\n",
       " 'Ari Graynor',\n",
       " 'Justin Theroux',\n",
       " 'Rebecca Ferguson',\n",
       " 'Ray Stevenson',\n",
       " 'John Cena',\n",
       " 'Ryan Gosling',\n",
       " 'Forest Whitaker',\n",
       " 'Jesse Eisenberg',\n",
       " 'Tom Hiddleston',\n",
       " 'George Clooney',\n",
       " 'Scott Eastwood',\n",
       " 'Zoe Saldana',\n",
       " 'Denzel Washington',\n",
       " 'Benedict Cumberbatch',\n",
       " 'Kurt Russell',\n",
       " 'Jeffrey Dean Morgan',\n",
       " 'Ryan Reynolds',\n",
       " 'Kumail Nanjiani',\n",
       " 'Kevin Bacon',\n",
       " 'Riley Keough',\n",
       " 'Mark Wahlberg',\n",
       " 'Elizabeth Olsen',\n",
       " 'Luke Evans',\n",
       " \"Chris O'Dowd\",\n",
       " 'Chadwick Boseman',\n",
       " 'Mary Elizabeth Winstead',\n",
       " 'Isabela Moner',\n",
       " 'Vin Diesel',\n",
       " 'Christian Bale',\n",
       " 'Cillian Murphy',\n",
       " 'Karl Urban',\n",
       " 'Noomi Rapace',\n",
       " 'Bradley Cooper',\n",
       " 'Zazie Beetz',\n",
       " 'Domhnall Gleeson',\n",
       " 'Chris Hemsworth',\n",
       " 'Peter Dinklage',\n",
       " 'Toby Kebbell',\n",
       " 'Chris Evans',\n",
       " 'Mark Webber',\n",
       " 'Michael Cera',\n",
       " 'Olivia Wilde',\n",
       " 'Jenna Fischer',\n",
       " 'Cliff Curtis',\n",
       " 'Adewale Akinnuoye-Agbaje',\n",
       " 'Tyrese Gibson',\n",
       " 'Oscar Isaac',\n",
       " 'Don Cheadle',\n",
       " 'Paul Walker',\n",
       " 'Anthony Hopkins',\n",
       " 'Sebastian Stan',\n",
       " 'Jason Schwartzman',\n",
       " 'Sharlto Copley',\n",
       " 'Cate Blanchett',\n",
       " 'Joseph Gordon-Levitt',\n",
       " 'Kris Kristofferson',\n",
       " 'Josh Brolin',\n",
       " 'Olivia Munn',\n",
       " 'Scarlett Johansson',\n",
       " 'Martin Freeman',\n",
       " 'Karen Gillan',\n",
       " 'Rooney Mara',\n",
       " 'Elizabeth Debicki',\n",
       " 'Linda Cardellini',\n",
       " 'Channing Tatum',\n",
       " 'Michael Douglas',\n",
       " 'John Boyega']"
      ]
     },
     "execution_count": 83,
     "metadata": {},
     "output_type": "execute_result"
    }
   ],
   "source": [
    "get_actor_community('Daisy Ridley')"
   ]
  },
  {
   "cell_type": "markdown",
   "metadata": {},
   "source": [
    "### Paper questions\n",
    "\n",
    "##### (15 points)"
   ]
  },
  {
   "cell_type": "markdown",
   "metadata": {},
   "source": [
    "Read Overgoor et. al. [Structure of U.S. College Networks on Facebook](https://ojs.aaai.org/index.php/ICWSM/article/view/7318) AAAI 2020 paper, first 6 pages (of course you're invited to read the whole thing!)\n",
    "\n",
    "What is the density of the US college networks graph (it's a simple computation)?"
   ]
  },
  {
   "cell_type": "code",
   "execution_count": 84,
   "metadata": {},
   "outputs": [
    {
     "name": "stdout",
     "output_type": "stream",
     "text": [
      "2.6194601784608267e-05\n"
     ]
    }
   ],
   "source": [
    "nodes = 7.6 * 10 ** 6\n",
    "edges = 756.5 * 10 ** 6\n",
    "density = (2 * edges) / (nodes * (nodes - 1))\n",
    "print(density)"
   ]
  },
  {
   "cell_type": "markdown",
   "metadata": {},
   "source": [
    "In your own up to 100 words, what is described in Figure 6? Copy pasting from the paper will lead to zero points."
   ]
  },
  {
   "cell_type": "code",
   "execution_count": null,
   "metadata": {},
   "outputs": [],
   "source": [
    "# The \"distance\" metric, as defined in the paper, measures how distinguishable two networks are.\n",
    "# To calculate the distance, a RF classifier is trained for each pair of schools using their generated ego graphs as the\n",
    "# training data. The distance is the resulting cross-validated AUC for the model, with values close to 1 indicating the\n",
    "# networks are distinguishable, and values close to 0.5 indicating they are not.\n",
    "# Figure 6 decribes a distance matrix for a sample of the 2011 class from 20 different schools from different categories\n",
    "# (public/private, low/high admission rates)."
   ]
  },
  {
   "cell_type": "code",
   "execution_count": null,
   "metadata": {},
   "outputs": [],
   "source": [
    "# The \"distance\" metric, as defined in the paper is the resulting cross-validated AUC for the model, with values close to 1 indicating the\n",
    "# networks are distinguishable, and values close to 0.5 indicating they are not.\n",
    "# Figure 6 decribes a distance matrix for a sample of the 2011 class from 20 different schools from different categories:\n",
    "#- Public schools with a low admission rate (red color)\n",
    "#- Public schools with a high admission rate (blue color)\n",
    "#- Private schools with a low admission rate (green color)\n",
    "#- Private schools with a high admission rate (purple color)"
   ]
  },
  {
   "cell_type": "markdown",
   "metadata": {},
   "source": [
    "### Wrap up\n",
    "And that's it, you have shown you can use NetworkX to build interesting networks, find some interesting facts and metrics about them and run community detection algorithms. Good luck with the rest of the course!"
   ]
  }
 ],
 "metadata": {
  "kernelspec": {
   "display_name": "Python 3 (ipykernel)",
   "language": "python",
   "name": "python3"
  },
  "language_info": {
   "codemirror_mode": {
    "name": "ipython",
    "version": 3
   },
   "file_extension": ".py",
   "mimetype": "text/x-python",
   "name": "python",
   "nbconvert_exporter": "python",
   "pygments_lexer": "ipython3",
   "version": "3.10.6"
  }
 },
 "nbformat": 4,
 "nbformat_minor": 4
}
