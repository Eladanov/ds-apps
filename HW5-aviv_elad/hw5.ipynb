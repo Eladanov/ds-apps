{
 "cells": [
  {
   "cell_type": "code",
   "execution_count": 1,
   "id": "1b62ec57-52ae-4975-a0a9-b28c5cf4e22c",
   "metadata": {},
   "outputs": [],
   "source": [
    "import numpy as np\n",
    "import pandas as pd\n",
    "from sklearn.model_selection import train_test_split\n",
    "from sklearn.ensemble import GradientBoostingClassifier\n",
    "from sklearn.ensemble import RandomForestClassifier\n",
    "from sklearn import metrics"
   ]
  },
  {
   "cell_type": "code",
   "execution_count": 2,
   "id": "e07e2e99-61bf-4812-a390-e51a19e94a6d",
   "metadata": {},
   "outputs": [],
   "source": [
    "df = pd.read_csv('data/bank_marketing.csv')"
   ]
  },
  {
   "cell_type": "code",
   "execution_count": 3,
   "id": "5e66f71e-cfee-44a3-9cb4-af8e1cf58a9d",
   "metadata": {},
   "outputs": [
    {
     "name": "stdout",
     "output_type": "stream",
     "text": [
      "<class 'pandas.core.frame.DataFrame'>\n",
      "RangeIndex: 41188 entries, 0 to 41187\n",
      "Data columns (total 17 columns):\n",
      " #   Column          Non-Null Count  Dtype  \n",
      "---  ------          --------------  -----  \n",
      " 0   age             41188 non-null  int64  \n",
      " 1   job             41188 non-null  object \n",
      " 2   marital         41188 non-null  object \n",
      " 3   education       41188 non-null  object \n",
      " 4   default         41188 non-null  object \n",
      " 5   housing         41188 non-null  object \n",
      " 6   loan            41188 non-null  object \n",
      " 7   contact         41188 non-null  object \n",
      " 8   month           41188 non-null  object \n",
      " 9   day_of_week     41188 non-null  object \n",
      " 10  campaign        41188 non-null  int64  \n",
      " 11  previous        41188 non-null  int64  \n",
      " 12  poutcome        41188 non-null  object \n",
      " 13  cons.price.idx  41188 non-null  float64\n",
      " 14  cons.conf.idx   41188 non-null  float64\n",
      " 15  euribor3m       41188 non-null  float64\n",
      " 16  y               41188 non-null  object \n",
      "dtypes: float64(3), int64(3), object(11)\n",
      "memory usage: 5.3+ MB\n"
     ]
    }
   ],
   "source": [
    "df.info()"
   ]
  },
  {
   "cell_type": "code",
   "execution_count": 4,
   "id": "4f623a07-227f-40d0-b355-9a59bf62d687",
   "metadata": {},
   "outputs": [
    {
     "data": {
      "text/html": [
       "<div>\n",
       "<style scoped>\n",
       "    .dataframe tbody tr th:only-of-type {\n",
       "        vertical-align: middle;\n",
       "    }\n",
       "\n",
       "    .dataframe tbody tr th {\n",
       "        vertical-align: top;\n",
       "    }\n",
       "\n",
       "    .dataframe thead th {\n",
       "        text-align: right;\n",
       "    }\n",
       "</style>\n",
       "<table border=\"1\" class=\"dataframe\">\n",
       "  <thead>\n",
       "    <tr style=\"text-align: right;\">\n",
       "      <th></th>\n",
       "      <th>age</th>\n",
       "      <th>job</th>\n",
       "      <th>marital</th>\n",
       "      <th>education</th>\n",
       "      <th>default</th>\n",
       "      <th>housing</th>\n",
       "      <th>loan</th>\n",
       "      <th>contact</th>\n",
       "      <th>month</th>\n",
       "      <th>day_of_week</th>\n",
       "      <th>campaign</th>\n",
       "      <th>previous</th>\n",
       "      <th>poutcome</th>\n",
       "      <th>cons.price.idx</th>\n",
       "      <th>cons.conf.idx</th>\n",
       "      <th>euribor3m</th>\n",
       "      <th>y</th>\n",
       "    </tr>\n",
       "  </thead>\n",
       "  <tbody>\n",
       "    <tr>\n",
       "      <th>0</th>\n",
       "      <td>56</td>\n",
       "      <td>housemaid</td>\n",
       "      <td>married</td>\n",
       "      <td>basic.4y</td>\n",
       "      <td>no</td>\n",
       "      <td>no</td>\n",
       "      <td>no</td>\n",
       "      <td>telephone</td>\n",
       "      <td>may</td>\n",
       "      <td>mon</td>\n",
       "      <td>1</td>\n",
       "      <td>0</td>\n",
       "      <td>nonexistent</td>\n",
       "      <td>93.994</td>\n",
       "      <td>-36.4</td>\n",
       "      <td>4.857</td>\n",
       "      <td>no</td>\n",
       "    </tr>\n",
       "    <tr>\n",
       "      <th>1</th>\n",
       "      <td>57</td>\n",
       "      <td>services</td>\n",
       "      <td>married</td>\n",
       "      <td>high.school</td>\n",
       "      <td>unknown</td>\n",
       "      <td>no</td>\n",
       "      <td>no</td>\n",
       "      <td>telephone</td>\n",
       "      <td>may</td>\n",
       "      <td>mon</td>\n",
       "      <td>1</td>\n",
       "      <td>0</td>\n",
       "      <td>nonexistent</td>\n",
       "      <td>93.994</td>\n",
       "      <td>-36.4</td>\n",
       "      <td>4.857</td>\n",
       "      <td>no</td>\n",
       "    </tr>\n",
       "    <tr>\n",
       "      <th>2</th>\n",
       "      <td>37</td>\n",
       "      <td>services</td>\n",
       "      <td>married</td>\n",
       "      <td>high.school</td>\n",
       "      <td>no</td>\n",
       "      <td>yes</td>\n",
       "      <td>no</td>\n",
       "      <td>telephone</td>\n",
       "      <td>may</td>\n",
       "      <td>mon</td>\n",
       "      <td>1</td>\n",
       "      <td>0</td>\n",
       "      <td>nonexistent</td>\n",
       "      <td>93.994</td>\n",
       "      <td>-36.4</td>\n",
       "      <td>4.857</td>\n",
       "      <td>no</td>\n",
       "    </tr>\n",
       "    <tr>\n",
       "      <th>3</th>\n",
       "      <td>40</td>\n",
       "      <td>admin.</td>\n",
       "      <td>married</td>\n",
       "      <td>basic.6y</td>\n",
       "      <td>no</td>\n",
       "      <td>no</td>\n",
       "      <td>no</td>\n",
       "      <td>telephone</td>\n",
       "      <td>may</td>\n",
       "      <td>mon</td>\n",
       "      <td>1</td>\n",
       "      <td>0</td>\n",
       "      <td>nonexistent</td>\n",
       "      <td>93.994</td>\n",
       "      <td>-36.4</td>\n",
       "      <td>4.857</td>\n",
       "      <td>no</td>\n",
       "    </tr>\n",
       "    <tr>\n",
       "      <th>4</th>\n",
       "      <td>56</td>\n",
       "      <td>services</td>\n",
       "      <td>married</td>\n",
       "      <td>high.school</td>\n",
       "      <td>no</td>\n",
       "      <td>no</td>\n",
       "      <td>yes</td>\n",
       "      <td>telephone</td>\n",
       "      <td>may</td>\n",
       "      <td>mon</td>\n",
       "      <td>1</td>\n",
       "      <td>0</td>\n",
       "      <td>nonexistent</td>\n",
       "      <td>93.994</td>\n",
       "      <td>-36.4</td>\n",
       "      <td>4.857</td>\n",
       "      <td>no</td>\n",
       "    </tr>\n",
       "  </tbody>\n",
       "</table>\n",
       "</div>"
      ],
      "text/plain": [
       "   age        job  marital    education  default housing loan    contact  \\\n",
       "0   56  housemaid  married     basic.4y       no      no   no  telephone   \n",
       "1   57   services  married  high.school  unknown      no   no  telephone   \n",
       "2   37   services  married  high.school       no     yes   no  telephone   \n",
       "3   40     admin.  married     basic.6y       no      no   no  telephone   \n",
       "4   56   services  married  high.school       no      no  yes  telephone   \n",
       "\n",
       "  month day_of_week  campaign  previous     poutcome  cons.price.idx  \\\n",
       "0   may         mon         1         0  nonexistent          93.994   \n",
       "1   may         mon         1         0  nonexistent          93.994   \n",
       "2   may         mon         1         0  nonexistent          93.994   \n",
       "3   may         mon         1         0  nonexistent          93.994   \n",
       "4   may         mon         1         0  nonexistent          93.994   \n",
       "\n",
       "   cons.conf.idx  euribor3m   y  \n",
       "0          -36.4      4.857  no  \n",
       "1          -36.4      4.857  no  \n",
       "2          -36.4      4.857  no  \n",
       "3          -36.4      4.857  no  \n",
       "4          -36.4      4.857  no  "
      ]
     },
     "execution_count": 4,
     "metadata": {},
     "output_type": "execute_result"
    }
   ],
   "source": [
    "df.head()"
   ]
  },
  {
   "cell_type": "markdown",
   "id": "8f53e34b-7e0f-4553-9271-d7739e122cdd",
   "metadata": {},
   "source": [
    "#### Renaming ugly values"
   ]
  },
  {
   "cell_type": "code",
   "execution_count": 5,
   "id": "fc8f2d6f-733f-47fa-bde9-64c5acf91e19",
   "metadata": {},
   "outputs": [],
   "source": [
    "df.rename(columns={'cons.price.idx':'cons_price_idx', 'cons.conf.idx':'cons_conf_idx'}, inplace=True)\n",
    "df['education'] = df['education'].map(lambda x: x.replace('.','_'))\n",
    "df['job'] = df['job'].map(lambda x: x.replace('.',\"\"))"
   ]
  },
  {
   "cell_type": "markdown",
   "id": "a1c2d609-57c5-455a-8093-326e2293d399",
   "metadata": {},
   "source": [
    "#### extract to csv(for dash)"
   ]
  },
  {
   "cell_type": "code",
   "execution_count": 6,
   "id": "693f283e-cbe3-4548-8dad-b26e6395b468",
   "metadata": {},
   "outputs": [],
   "source": [
    "df.to_csv('data/fixed_names_df.csv')"
   ]
  },
  {
   "cell_type": "code",
   "execution_count": 7,
   "id": "3df36645-2bbd-4ada-abe6-84680522e825",
   "metadata": {},
   "outputs": [
    {
     "data": {
      "text/plain": [
       "4640"
      ]
     },
     "execution_count": 7,
     "metadata": {},
     "output_type": "execute_result"
    }
   ],
   "source": [
    "df[df['y'] == 'yes'].shape[0]"
   ]
  },
  {
   "cell_type": "code",
   "execution_count": 8,
   "id": "10767823-ac13-4aed-9057-d76779f68391",
   "metadata": {},
   "outputs": [
    {
     "data": {
      "text/plain": [
       "0.11265417111780131"
      ]
     },
     "execution_count": 8,
     "metadata": {},
     "output_type": "execute_result"
    }
   ],
   "source": [
    "df[df['y'] == 'yes'].shape[0] / df.shape[0]"
   ]
  },
  {
   "cell_type": "code",
   "execution_count": 9,
   "id": "57c6c03c-cc95-4ad1-949c-c5fd7ac26584",
   "metadata": {},
   "outputs": [],
   "source": [
    "df['y'] = df['y'].map(lambda x: 1 if x=='yes' else 0)"
   ]
  },
  {
   "cell_type": "code",
   "execution_count": 10,
   "id": "e5edfcfd-0bdb-4d91-ac14-3bef438a5ecf",
   "metadata": {},
   "outputs": [],
   "source": [
    "X = df.loc[:,df.columns != 'y']\n",
    "y = df['y']"
   ]
  },
  {
   "cell_type": "code",
   "execution_count": 11,
   "id": "502a9d36-c192-45cc-ac9b-f14723550460",
   "metadata": {},
   "outputs": [],
   "source": [
    "X = pd.get_dummies(X)"
   ]
  },
  {
   "cell_type": "code",
   "execution_count": 12,
   "id": "310b2654-5fc3-4d18-8b89-42d5c5b6de8a",
   "metadata": {},
   "outputs": [
    {
     "data": {
      "text/html": [
       "<div>\n",
       "<style scoped>\n",
       "    .dataframe tbody tr th:only-of-type {\n",
       "        vertical-align: middle;\n",
       "    }\n",
       "\n",
       "    .dataframe tbody tr th {\n",
       "        vertical-align: top;\n",
       "    }\n",
       "\n",
       "    .dataframe thead th {\n",
       "        text-align: right;\n",
       "    }\n",
       "</style>\n",
       "<table border=\"1\" class=\"dataframe\">\n",
       "  <thead>\n",
       "    <tr style=\"text-align: right;\">\n",
       "      <th></th>\n",
       "      <th>age</th>\n",
       "      <th>campaign</th>\n",
       "      <th>previous</th>\n",
       "      <th>cons_price_idx</th>\n",
       "      <th>cons_conf_idx</th>\n",
       "      <th>euribor3m</th>\n",
       "      <th>job_admin</th>\n",
       "      <th>job_blue-collar</th>\n",
       "      <th>job_entrepreneur</th>\n",
       "      <th>job_housemaid</th>\n",
       "      <th>...</th>\n",
       "      <th>month_oct</th>\n",
       "      <th>month_sep</th>\n",
       "      <th>day_of_week_fri</th>\n",
       "      <th>day_of_week_mon</th>\n",
       "      <th>day_of_week_thu</th>\n",
       "      <th>day_of_week_tue</th>\n",
       "      <th>day_of_week_wed</th>\n",
       "      <th>poutcome_failure</th>\n",
       "      <th>poutcome_nonexistent</th>\n",
       "      <th>poutcome_success</th>\n",
       "    </tr>\n",
       "  </thead>\n",
       "  <tbody>\n",
       "    <tr>\n",
       "      <th>0</th>\n",
       "      <td>56</td>\n",
       "      <td>1</td>\n",
       "      <td>0</td>\n",
       "      <td>93.994</td>\n",
       "      <td>-36.4</td>\n",
       "      <td>4.857</td>\n",
       "      <td>0</td>\n",
       "      <td>0</td>\n",
       "      <td>0</td>\n",
       "      <td>1</td>\n",
       "      <td>...</td>\n",
       "      <td>0</td>\n",
       "      <td>0</td>\n",
       "      <td>0</td>\n",
       "      <td>1</td>\n",
       "      <td>0</td>\n",
       "      <td>0</td>\n",
       "      <td>0</td>\n",
       "      <td>0</td>\n",
       "      <td>1</td>\n",
       "      <td>0</td>\n",
       "    </tr>\n",
       "    <tr>\n",
       "      <th>1</th>\n",
       "      <td>57</td>\n",
       "      <td>1</td>\n",
       "      <td>0</td>\n",
       "      <td>93.994</td>\n",
       "      <td>-36.4</td>\n",
       "      <td>4.857</td>\n",
       "      <td>0</td>\n",
       "      <td>0</td>\n",
       "      <td>0</td>\n",
       "      <td>0</td>\n",
       "      <td>...</td>\n",
       "      <td>0</td>\n",
       "      <td>0</td>\n",
       "      <td>0</td>\n",
       "      <td>1</td>\n",
       "      <td>0</td>\n",
       "      <td>0</td>\n",
       "      <td>0</td>\n",
       "      <td>0</td>\n",
       "      <td>1</td>\n",
       "      <td>0</td>\n",
       "    </tr>\n",
       "    <tr>\n",
       "      <th>2</th>\n",
       "      <td>37</td>\n",
       "      <td>1</td>\n",
       "      <td>0</td>\n",
       "      <td>93.994</td>\n",
       "      <td>-36.4</td>\n",
       "      <td>4.857</td>\n",
       "      <td>0</td>\n",
       "      <td>0</td>\n",
       "      <td>0</td>\n",
       "      <td>0</td>\n",
       "      <td>...</td>\n",
       "      <td>0</td>\n",
       "      <td>0</td>\n",
       "      <td>0</td>\n",
       "      <td>1</td>\n",
       "      <td>0</td>\n",
       "      <td>0</td>\n",
       "      <td>0</td>\n",
       "      <td>0</td>\n",
       "      <td>1</td>\n",
       "      <td>0</td>\n",
       "    </tr>\n",
       "    <tr>\n",
       "      <th>3</th>\n",
       "      <td>40</td>\n",
       "      <td>1</td>\n",
       "      <td>0</td>\n",
       "      <td>93.994</td>\n",
       "      <td>-36.4</td>\n",
       "      <td>4.857</td>\n",
       "      <td>1</td>\n",
       "      <td>0</td>\n",
       "      <td>0</td>\n",
       "      <td>0</td>\n",
       "      <td>...</td>\n",
       "      <td>0</td>\n",
       "      <td>0</td>\n",
       "      <td>0</td>\n",
       "      <td>1</td>\n",
       "      <td>0</td>\n",
       "      <td>0</td>\n",
       "      <td>0</td>\n",
       "      <td>0</td>\n",
       "      <td>1</td>\n",
       "      <td>0</td>\n",
       "    </tr>\n",
       "    <tr>\n",
       "      <th>4</th>\n",
       "      <td>56</td>\n",
       "      <td>1</td>\n",
       "      <td>0</td>\n",
       "      <td>93.994</td>\n",
       "      <td>-36.4</td>\n",
       "      <td>4.857</td>\n",
       "      <td>0</td>\n",
       "      <td>0</td>\n",
       "      <td>0</td>\n",
       "      <td>0</td>\n",
       "      <td>...</td>\n",
       "      <td>0</td>\n",
       "      <td>0</td>\n",
       "      <td>0</td>\n",
       "      <td>1</td>\n",
       "      <td>0</td>\n",
       "      <td>0</td>\n",
       "      <td>0</td>\n",
       "      <td>0</td>\n",
       "      <td>1</td>\n",
       "      <td>0</td>\n",
       "    </tr>\n",
       "  </tbody>\n",
       "</table>\n",
       "<p>5 rows × 59 columns</p>\n",
       "</div>"
      ],
      "text/plain": [
       "   age  campaign  previous  cons_price_idx  cons_conf_idx  euribor3m  \\\n",
       "0   56         1         0          93.994          -36.4      4.857   \n",
       "1   57         1         0          93.994          -36.4      4.857   \n",
       "2   37         1         0          93.994          -36.4      4.857   \n",
       "3   40         1         0          93.994          -36.4      4.857   \n",
       "4   56         1         0          93.994          -36.4      4.857   \n",
       "\n",
       "   job_admin  job_blue-collar  job_entrepreneur  job_housemaid  ...  \\\n",
       "0          0                0                 0              1  ...   \n",
       "1          0                0                 0              0  ...   \n",
       "2          0                0                 0              0  ...   \n",
       "3          1                0                 0              0  ...   \n",
       "4          0                0                 0              0  ...   \n",
       "\n",
       "   month_oct  month_sep  day_of_week_fri  day_of_week_mon  day_of_week_thu  \\\n",
       "0          0          0                0                1                0   \n",
       "1          0          0                0                1                0   \n",
       "2          0          0                0                1                0   \n",
       "3          0          0                0                1                0   \n",
       "4          0          0                0                1                0   \n",
       "\n",
       "   day_of_week_tue  day_of_week_wed  poutcome_failure  poutcome_nonexistent  \\\n",
       "0                0                0                 0                     1   \n",
       "1                0                0                 0                     1   \n",
       "2                0                0                 0                     1   \n",
       "3                0                0                 0                     1   \n",
       "4                0                0                 0                     1   \n",
       "\n",
       "   poutcome_success  \n",
       "0                 0  \n",
       "1                 0  \n",
       "2                 0  \n",
       "3                 0  \n",
       "4                 0  \n",
       "\n",
       "[5 rows x 59 columns]"
      ]
     },
     "execution_count": 12,
     "metadata": {},
     "output_type": "execute_result"
    }
   ],
   "source": [
    "X.head()"
   ]
  },
  {
   "cell_type": "code",
   "execution_count": 13,
   "id": "03de5195-6622-416d-9405-dc94382d5c99",
   "metadata": {},
   "outputs": [],
   "source": [
    "X_train, X_test, y_train, y_test = train_test_split(\n",
    "X, y, test_size=0.2)"
   ]
  },
  {
   "cell_type": "code",
   "execution_count": 14,
   "id": "e7ad74b6-b184-400d-a50b-ab8129232bf1",
   "metadata": {},
   "outputs": [
    {
     "data": {
      "text/plain": [
       "0.11274658573596358"
      ]
     },
     "execution_count": 14,
     "metadata": {},
     "output_type": "execute_result"
    }
   ],
   "source": [
    "sum(y_train == 1) / len(y_train)"
   ]
  },
  {
   "cell_type": "code",
   "execution_count": 15,
   "id": "3eb75989-275c-4359-ad34-031442b4f43a",
   "metadata": {},
   "outputs": [
    {
     "data": {
      "text/plain": [
       "0.11228453508133042"
      ]
     },
     "execution_count": 15,
     "metadata": {},
     "output_type": "execute_result"
    }
   ],
   "source": [
    "sum(y_test == 1) / len(y_test)"
   ]
  },
  {
   "cell_type": "markdown",
   "id": "de9b31c5-b210-4eaf-8532-2b38044b350a",
   "metadata": {},
   "source": [
    "#### Baseline model with default values for GradientBoostingClassifier"
   ]
  },
  {
   "cell_type": "code",
   "execution_count": 16,
   "id": "9e4b7a83-f98f-46a7-a96c-981eb6c92f5c",
   "metadata": {},
   "outputs": [
    {
     "name": "stdout",
     "output_type": "stream",
     "text": [
      "AUC for baseline model: 0.804908992131746\n"
     ]
    }
   ],
   "source": [
    "gb_clf = GradientBoostingClassifier()\n",
    "gb_clf.fit(X_train, y_train)\n",
    "y_score_gb = gb_clf.predict_proba(X_test)[:,1]\n",
    "auc = metrics.roc_auc_score(y_test, y_score_gb)\n",
    "print(f\"AUC for baseline model: {auc}\")"
   ]
  },
  {
   "cell_type": "markdown",
   "id": "1fdeb268-41eb-451c-b601-fb8fe7d8e119",
   "metadata": {},
   "source": [
    "#### Naive try of fine tuning the parameters"
   ]
  },
  {
   "cell_type": "code",
   "execution_count": 18,
   "id": "48544113-1525-44de-b244-a44cb7284cb6",
   "metadata": {},
   "outputs": [
    {
     "name": "stdout",
     "output_type": "stream",
     "text": [
      "AUC for learning rate=1, n estimators=16, max depth=2 model: 0.7885880383323293\n",
      "AUC for learning rate=1, n estimators=16, max depth=3 model: 0.8022610604587904\n",
      "AUC for learning rate=1, n estimators=16, max depth=4 model: 0.7860216349263252\n",
      "AUC for learning rate=1, n estimators=16, max depth=5 model: 0.7761373488899812\n",
      "AUC for learning rate=1, n estimators=16, max depth=6 model: 0.772705474515949\n",
      "AUC for learning rate=1, n estimators=16, max depth=7 model: 0.7546767880967252\n",
      "AUC for learning rate=1, n estimators=32, max depth=2 model: 0.7893474412467986\n",
      "AUC for learning rate=1, n estimators=32, max depth=3 model: 0.7984491889674441\n",
      "AUC for learning rate=1, n estimators=32, max depth=4 model: 0.7874547732471977\n",
      "AUC for learning rate=1, n estimators=32, max depth=5 model: 0.7735909025393506\n",
      "AUC for learning rate=1, n estimators=32, max depth=6 model: 0.7372871709395707\n",
      "AUC for learning rate=1, n estimators=32, max depth=7 model: 0.7305460472095232\n",
      "AUC for learning rate=1, n estimators=64, max depth=2 model: 0.7892030112979108\n",
      "AUC for learning rate=1, n estimators=64, max depth=3 model: 0.7868950148014828\n",
      "AUC for learning rate=1, n estimators=64, max depth=4 model: 0.7848453512996107\n",
      "AUC for learning rate=1, n estimators=64, max depth=5 model: 0.7638356721277547\n",
      "AUC for learning rate=1, n estimators=64, max depth=6 model: 0.7154894098255236\n",
      "AUC for learning rate=1, n estimators=64, max depth=7 model: 0.7178417553338926\n",
      "AUC for learning rate=1, n estimators=128, max depth=2 model: 0.789205820068667\n",
      "AUC for learning rate=1, n estimators=128, max depth=3 model: 0.7818438840864659\n",
      "AUC for learning rate=1, n estimators=128, max depth=4 model: 0.7833706727375537\n",
      "AUC for learning rate=1, n estimators=128, max depth=5 model: 0.7588243076934449\n",
      "AUC for learning rate=1, n estimators=128, max depth=6 model: 0.7077246369848585\n",
      "AUC for learning rate=1, n estimators=128, max depth=7 model: 0.7009515819662134\n",
      "AUC for learning rate=1, n estimators=256, max depth=2 model: 0.789205820068667\n",
      "AUC for learning rate=1, n estimators=256, max depth=3 model: 0.7707750359411785\n",
      "AUC for learning rate=1, n estimators=256, max depth=4 model: 0.7857941984100878\n",
      "AUC for learning rate=1, n estimators=256, max depth=5 model: 0.7530297397082574\n",
      "AUC for learning rate=1, n estimators=256, max depth=6 model: 0.6767134425550945\n",
      "AUC for learning rate=1, n estimators=256, max depth=7 model: 0.6894263085730337\n",
      "AUC for learning rate=1, n estimators=512, max depth=2 model: 0.789205820068667\n",
      "AUC for learning rate=1, n estimators=512, max depth=3 model: 0.7643649036702503\n",
      "AUC for learning rate=1, n estimators=512, max depth=4 model: 0.7840127725154389\n",
      "AUC for learning rate=1, n estimators=512, max depth=5 model: 0.7478245700917656\n",
      "AUC for learning rate=1, n estimators=512, max depth=6 model: 0.6942911734378985\n",
      "AUC for learning rate=1, n estimators=512, max depth=7 model: 0.685585979799025\n",
      "AUC for learning rate=0.5, n estimators=16, max depth=2 model: 0.7934958478237569\n",
      "AUC for learning rate=0.5, n estimators=16, max depth=3 model: 0.8016462353232487\n",
      "AUC for learning rate=0.5, n estimators=16, max depth=4 model: 0.8056947087933004\n",
      "AUC for learning rate=0.5, n estimators=16, max depth=5 model: 0.81003012037061\n",
      "AUC for learning rate=0.5, n estimators=16, max depth=6 model: 0.8011920275259534\n",
      "AUC for learning rate=0.5, n estimators=16, max depth=7 model: 0.7928878228700463\n",
      "AUC for learning rate=0.5, n estimators=32, max depth=2 model: 0.7986232588393124\n",
      "AUC for learning rate=0.5, n estimators=32, max depth=3 model: 0.8043518207117277\n",
      "AUC for learning rate=0.5, n estimators=32, max depth=4 model: 0.8077979606846009\n",
      "AUC for learning rate=0.5, n estimators=32, max depth=5 model: 0.8050033816121605\n",
      "AUC for learning rate=0.5, n estimators=32, max depth=6 model: 0.7877433374848936\n",
      "AUC for learning rate=0.5, n estimators=32, max depth=7 model: 0.7742067624851707\n",
      "AUC for learning rate=0.5, n estimators=64, max depth=2 model: 0.8023235925656272\n",
      "AUC for learning rate=0.5, n estimators=64, max depth=3 model: 0.8036683285226974\n",
      "AUC for learning rate=0.5, n estimators=64, max depth=4 model: 0.8038525986673122\n",
      "AUC for learning rate=0.5, n estimators=64, max depth=5 model: 0.7942583551690622\n",
      "AUC for learning rate=0.5, n estimators=64, max depth=6 model: 0.7711401761394924\n",
      "AUC for learning rate=0.5, n estimators=64, max depth=7 model: 0.7559877448897003\n",
      "AUC for learning rate=0.5, n estimators=128, max depth=2 model: 0.803479327816809\n",
      "AUC for learning rate=0.5, n estimators=128, max depth=3 model: 0.8042862580890751\n",
      "AUC for learning rate=0.5, n estimators=128, max depth=4 model: 0.792658908053411\n",
      "AUC for learning rate=0.5, n estimators=128, max depth=5 model: 0.7751686186391507\n",
      "AUC for learning rate=0.5, n estimators=128, max depth=6 model: 0.7591915914273359\n",
      "AUC for learning rate=0.5, n estimators=128, max depth=7 model: 0.7333544483906852\n",
      "AUC for learning rate=0.5, n estimators=256, max depth=2 model: 0.8063194385415087\n",
      "AUC for learning rate=0.5, n estimators=256, max depth=3 model: 0.8000626060218567\n",
      "AUC for learning rate=0.5, n estimators=256, max depth=4 model: 0.7690134931868831\n",
      "AUC for learning rate=0.5, n estimators=256, max depth=5 model: 0.7557720608616274\n",
      "AUC for learning rate=0.5, n estimators=256, max depth=6 model: 0.7371669112021908\n",
      "AUC for learning rate=0.5, n estimators=256, max depth=7 model: 0.7346930494011036\n",
      "AUC for learning rate=0.5, n estimators=512, max depth=2 model: 0.8058823051138108\n",
      "AUC for learning rate=0.5, n estimators=512, max depth=3 model: 0.785352408336136\n",
      "AUC for learning rate=0.5, n estimators=512, max depth=4 model: 0.753329095538859\n",
      "AUC for learning rate=0.5, n estimators=512, max depth=5 model: 0.7329267760855345\n",
      "AUC for learning rate=0.5, n estimators=512, max depth=6 model: 0.7277050495045845\n",
      "AUC for learning rate=0.5, n estimators=512, max depth=7 model: 0.7320463003684664\n",
      "AUC for learning rate=0.25, n estimators=16, max depth=2 model: 0.7935743455748928\n",
      "AUC for learning rate=0.25, n estimators=16, max depth=3 model: 0.7980354866010548\n",
      "AUC for learning rate=0.25, n estimators=16, max depth=4 model: 0.8030093761202746\n",
      "AUC for learning rate=0.25, n estimators=16, max depth=5 model: 0.8081804709125918\n",
      "AUC for learning rate=0.25, n estimators=16, max depth=6 model: 0.8118116940952987\n",
      "AUC for learning rate=0.25, n estimators=16, max depth=7 model: 0.8102557829263695\n",
      "AUC for learning rate=0.25, n estimators=32, max depth=2 model: 0.7989241668853319\n",
      "AUC for learning rate=0.25, n estimators=32, max depth=3 model: 0.8016247260524575\n",
      "AUC for learning rate=0.25, n estimators=32, max depth=4 model: 0.806437259083232\n",
      "AUC for learning rate=0.25, n estimators=32, max depth=5 model: 0.8092505386557076\n",
      "AUC for learning rate=0.25, n estimators=32, max depth=6 model: 0.8077544247378788\n",
      "AUC for learning rate=0.25, n estimators=32, max depth=7 model: 0.8025177673229089\n",
      "AUC for learning rate=0.25, n estimators=64, max depth=2 model: 0.8019601524127711\n",
      "AUC for learning rate=0.25, n estimators=64, max depth=3 model: 0.8045973664078409\n",
      "AUC for learning rate=0.25, n estimators=64, max depth=4 model: 0.8081491309441535\n",
      "AUC for learning rate=0.25, n estimators=64, max depth=5 model: 0.8048091329398591\n",
      "AUC for learning rate=0.25, n estimators=64, max depth=6 model: 0.7999182499879889\n",
      "AUC for learning rate=0.25, n estimators=64, max depth=7 model: 0.7928904098957429\n",
      "AUC for learning rate=0.25, n estimators=128, max depth=2 model: 0.8053807917037781\n",
      "AUC for learning rate=0.25, n estimators=128, max depth=3 model: 0.8053482690950216\n",
      "AUC for learning rate=0.25, n estimators=128, max depth=4 model: 0.8076332041052402\n",
      "AUC for learning rate=0.25, n estimators=128, max depth=5 model: 0.7976307279520735\n",
      "AUC for learning rate=0.25, n estimators=128, max depth=6 model: 0.7767229036776417\n",
      "AUC for learning rate=0.25, n estimators=128, max depth=7 model: 0.7679913962916836\n",
      "AUC for learning rate=0.25, n estimators=256, max depth=2 model: 0.8049037441653331\n",
      "AUC for learning rate=0.25, n estimators=256, max depth=3 model: 0.8069805344795089\n",
      "AUC for learning rate=0.25, n estimators=256, max depth=4 model: 0.7973795647144478\n",
      "AUC for learning rate=0.25, n estimators=256, max depth=5 model: 0.7801430994785296\n",
      "AUC for learning rate=0.25, n estimators=256, max depth=6 model: 0.7623137618679804\n",
      "AUC for learning rate=0.25, n estimators=256, max depth=7 model: 0.7534164630923827\n",
      "AUC for learning rate=0.25, n estimators=512, max depth=2 model: 0.8071994707684575\n",
      "AUC for learning rate=0.25, n estimators=512, max depth=3 model: 0.8021410963814901\n",
      "AUC for learning rate=0.25, n estimators=512, max depth=4 model: 0.7831989681463222\n",
      "AUC for learning rate=0.25, n estimators=512, max depth=5 model: 0.7577582313614039\n",
      "AUC for learning rate=0.25, n estimators=512, max depth=6 model: 0.7359360043757692\n",
      "AUC for learning rate=0.25, n estimators=512, max depth=7 model: 0.7317667537631986\n",
      "AUC for learning rate=0.1, n estimators=16, max depth=2 model: 0.7754234037127516\n",
      "AUC for learning rate=0.1, n estimators=16, max depth=3 model: 0.7935586016756535\n",
      "AUC for learning rate=0.1, n estimators=16, max depth=4 model: 0.7953482321375115\n",
      "AUC for learning rate=0.1, n estimators=16, max depth=5 model: 0.8015826684061333\n",
      "AUC for learning rate=0.1, n estimators=16, max depth=6 model: 0.8080186709340271\n",
      "AUC for learning rate=0.1, n estimators=16, max depth=7 model: 0.8105233552984134\n",
      "AUC for learning rate=0.1, n estimators=32, max depth=2 model: 0.7920090471984359\n",
      "AUC for learning rate=0.1, n estimators=32, max depth=3 model: 0.7986346417523773\n",
      "AUC for learning rate=0.1, n estimators=32, max depth=4 model: 0.8002747421289743\n",
      "AUC for learning rate=0.1, n estimators=32, max depth=5 model: 0.8061849132052878\n",
      "AUC for learning rate=0.1, n estimators=32, max depth=6 model: 0.8100276811749532\n",
      "AUC for learning rate=0.1, n estimators=32, max depth=7 model: 0.8111957602344584\n",
      "AUC for learning rate=0.1, n estimators=64, max depth=2 model: 0.7978637820098234\n",
      "AUC for learning rate=0.1, n estimators=64, max depth=3 model: 0.8024097774788327\n",
      "AUC for learning rate=0.1, n estimators=64, max depth=4 model: 0.8087116242456049\n",
      "AUC for learning rate=0.1, n estimators=64, max depth=5 model: 0.8116869994567245\n",
      "AUC for learning rate=0.1, n estimators=64, max depth=6 model: 0.8112986499421615\n",
      "AUC for learning rate=0.1, n estimators=64, max depth=7 model: 0.8076369737712552\n",
      "AUC for learning rate=0.1, n estimators=128, max depth=2 model: 0.8002771074096111\n",
      "AUC for learning rate=0.1, n estimators=128, max depth=3 model: 0.8056517641667374\n",
      "AUC for learning rate=0.1, n estimators=128, max depth=4 model: 0.8099876931491864\n",
      "AUC for learning rate=0.1, n estimators=128, max depth=5 model: 0.8099418658368475\n",
      "AUC for learning rate=0.1, n estimators=128, max depth=6 model: 0.8082425595293092\n",
      "AUC for learning rate=0.1, n estimators=128, max depth=7 model: 0.8022314944508299\n",
      "AUC for learning rate=0.1, n estimators=256, max depth=2 model: 0.8041493674722171\n",
      "AUC for learning rate=0.1, n estimators=256, max depth=3 model: 0.8065969894412394\n",
      "AUC for learning rate=0.1, n estimators=256, max depth=4 model: 0.8098357238682687\n",
      "AUC for learning rate=0.1, n estimators=256, max depth=5 model: 0.8040140290707775\n",
      "AUC for learning rate=0.1, n estimators=256, max depth=6 model: 0.7962798570483516\n",
      "AUC for learning rate=0.1, n estimators=256, max depth=7 model: 0.7887315813009783\n",
      "AUC for learning rate=0.1, n estimators=512, max depth=2 model: 0.8061657692151334\n",
      "AUC for learning rate=0.1, n estimators=512, max depth=3 model: 0.8086093997730809\n",
      "AUC for learning rate=0.1, n estimators=512, max depth=4 model: 0.8053434646187277\n",
      "AUC for learning rate=0.1, n estimators=512, max depth=5 model: 0.7948612060713797\n",
      "AUC for learning rate=0.1, n estimators=512, max depth=6 model: 0.7752086805799373\n",
      "AUC for learning rate=0.1, n estimators=512, max depth=7 model: 0.762323814310687\n",
      "AUC for learning rate=0.05, n estimators=16, max depth=2 model: 0.7665223352711388\n",
      "AUC for learning rate=0.05, n estimators=16, max depth=3 model: 0.77829455874581\n",
      "AUC for learning rate=0.05, n estimators=16, max depth=4 model: 0.7931424601136073\n",
      "AUC for learning rate=0.05, n estimators=16, max depth=5 model: 0.8002431804154763\n",
      "AUC for learning rate=0.05, n estimators=16, max depth=6 model: 0.8040896441361367\n",
      "AUC for learning rate=0.05, n estimators=16, max depth=7 model: 0.8073991891522317\n",
      "AUC for learning rate=0.05, n estimators=32, max depth=2 model: 0.7771235970005286\n",
      "AUC for learning rate=0.05, n estimators=32, max depth=3 model: 0.7798524656202763\n",
      "AUC for learning rate=0.05, n estimators=32, max depth=4 model: 0.7942811209951918\n",
      "AUC for learning rate=0.05, n estimators=32, max depth=5 model: 0.801359075470931\n",
      "AUC for learning rate=0.05, n estimators=32, max depth=6 model: 0.8086822060676839\n",
      "AUC for learning rate=0.05, n estimators=32, max depth=7 model: 0.8112095823431801\n",
      "AUC for learning rate=0.05, n estimators=64, max depth=2 model: 0.7929647684057638\n",
      "AUC for learning rate=0.05, n estimators=64, max depth=3 model: 0.798984925031691\n",
      "AUC for learning rate=0.05, n estimators=64, max depth=4 model: 0.8000375488301101\n",
      "AUC for learning rate=0.05, n estimators=64, max depth=5 model: 0.8066472516547726\n",
      "AUC for learning rate=0.05, n estimators=64, max depth=6 model: 0.8109238268762404\n",
      "AUC for learning rate=0.05, n estimators=64, max depth=7 model: 0.8113894175866007\n",
      "AUC for learning rate=0.05, n estimators=128, max depth=2 model: 0.7977905322251008\n",
      "AUC for learning rate=0.05, n estimators=128, max depth=3 model: 0.8023221881802491\n",
      "AUC for learning rate=0.05, n estimators=128, max depth=4 model: 0.8051144019720528\n",
      "AUC for learning rate=0.05, n estimators=128, max depth=5 model: 0.8096824241169926\n",
      "AUC for learning rate=0.05, n estimators=128, max depth=6 model: 0.812071357560213\n",
      "AUC for learning rate=0.05, n estimators=128, max depth=7 model: 0.8097337211408046\n",
      "AUC for learning rate=0.05, n estimators=256, max depth=2 model: 0.8005953115702876\n",
      "AUC for learning rate=0.05, n estimators=256, max depth=3 model: 0.8055257390578053\n",
      "AUC for learning rate=0.05, n estimators=256, max depth=4 model: 0.8073965282115152\n",
      "AUC for learning rate=0.05, n estimators=256, max depth=5 model: 0.8111192581888602\n",
      "AUC for learning rate=0.05, n estimators=256, max depth=6 model: 0.808803057125223\n",
      "AUC for learning rate=0.05, n estimators=256, max depth=7 model: 0.803341106729593\n",
      "AUC for learning rate=0.05, n estimators=512, max depth=2 model: 0.8036813375662001\n",
      "AUC for learning rate=0.05, n estimators=512, max depth=3 model: 0.8061326552862175\n",
      "AUC for learning rate=0.05, n estimators=512, max depth=4 model: 0.8061223810984511\n",
      "AUC for learning rate=0.05, n estimators=512, max depth=5 model: 0.8042355523854225\n",
      "AUC for learning rate=0.05, n estimators=512, max depth=6 model: 0.7997382669145283\n",
      "AUC for learning rate=0.05, n estimators=512, max depth=7 model: 0.7901030005802329\n",
      "AUC for learning rate=0.01, n estimators=16, max depth=2 model: 0.7586900041022835\n",
      "AUC for learning rate=0.01, n estimators=16, max depth=3 model: 0.7728153122355228\n",
      "AUC for learning rate=0.01, n estimators=16, max depth=4 model: 0.7903647336657045\n",
      "AUC for learning rate=0.01, n estimators=16, max depth=5 model: 0.79288501409929\n",
      "AUC for learning rate=0.01, n estimators=16, max depth=6 model: 0.7958763549547087\n",
      "AUC for learning rate=0.01, n estimators=16, max depth=7 model: 0.7969439095871477\n",
      "AUC for learning rate=0.01, n estimators=32, max depth=2 model: 0.7624239691626536\n",
      "AUC for learning rate=0.01, n estimators=32, max depth=3 model: 0.7745627372210171\n",
      "AUC for learning rate=0.01, n estimators=32, max depth=4 model: 0.7909729064494551\n",
      "AUC for learning rate=0.01, n estimators=32, max depth=5 model: 0.794410989685159\n",
      "AUC for learning rate=0.01, n estimators=32, max depth=6 model: 0.7998551265609928\n",
      "AUC for learning rate=0.01, n estimators=32, max depth=7 model: 0.8022329727512278\n",
      "AUC for learning rate=0.01, n estimators=64, max depth=2 model: 0.7666695739907827\n",
      "AUC for learning rate=0.01, n estimators=64, max depth=3 model: 0.7768677032016291\n",
      "AUC for learning rate=0.01, n estimators=64, max depth=4 model: 0.7927338578835912\n",
      "AUC for learning rate=0.01, n estimators=64, max depth=5 model: 0.7998836577586748\n",
      "AUC for learning rate=0.01, n estimators=64, max depth=6 model: 0.8035580473130041\n",
      "AUC for learning rate=0.01, n estimators=64, max depth=7 model: 0.8069262808549013\n",
      "AUC for learning rate=0.01, n estimators=128, max depth=2 model: 0.7735569755452157\n",
      "AUC for learning rate=0.01, n estimators=128, max depth=3 model: 0.7794629334653949\n",
      "AUC for learning rate=0.01, n estimators=128, max depth=4 model: 0.794262937900296\n",
      "AUC for learning rate=0.01, n estimators=128, max depth=5 model: 0.8008498748988289\n",
      "AUC for learning rate=0.01, n estimators=128, max depth=6 model: 0.8079392862026528\n",
      "AUC for learning rate=0.01, n estimators=128, max depth=7 model: 0.8099337351846583\n",
      "AUC for learning rate=0.01, n estimators=256, max depth=2 model: 0.7911437240604476\n",
      "AUC for learning rate=0.01, n estimators=256, max depth=3 model: 0.7947920216127519\n",
      "AUC for learning rate=0.01, n estimators=256, max depth=4 model: 0.797225377982933\n",
      "AUC for learning rate=0.01, n estimators=256, max depth=5 model: 0.8055474700736565\n",
      "AUC for learning rate=0.01, n estimators=256, max depth=6 model: 0.8101100225071235\n",
      "AUC for learning rate=0.01, n estimators=256, max depth=7 model: 0.8106411758401366\n",
      "AUC for learning rate=0.01, n estimators=512, max depth=2 model: 0.7967676222646822\n",
      "AUC for learning rate=0.01, n estimators=512, max depth=3 model: 0.8003443700777215\n",
      "AUC for learning rate=0.01, n estimators=512, max depth=4 model: 0.8043488641109315\n",
      "AUC for learning rate=0.01, n estimators=512, max depth=5 model: 0.8091973198413784\n",
      "AUC for learning rate=0.01, n estimators=512, max depth=6 model: 0.8113173504421965\n",
      "AUC for learning rate=0.01, n estimators=512, max depth=7 model: 0.809830180241776\n"
     ]
    }
   ],
   "source": [
    "learning_rates = [1, 0.5, 0.25, 0.1, 0.05, 0.01]\n",
    "n_estimators = [16, 32, 64, 128, 256, 512]\n",
    "max_depth = [2, 3, 4, 5, 6, 7]\n",
    "for eta in learning_rates:\n",
    "    for n in n_estimators:\n",
    "        for depth in max_depth:\n",
    "            gb_clf = GradientBoostingClassifier(learning_rate=eta, n_estimators=n, max_depth=depth)\n",
    "            gb_clf.fit(X_train, y_train)\n",
    "            y_score_gb = gb_clf.predict_proba(X_test)[:,1]\n",
    "            auc = metrics.roc_auc_score(y_test, y_score_gb)\n",
    "            print(f\"AUC for learning rate={eta}, n estimators={n}, max depth={depth} model: {auc}\")"
   ]
  },
  {
   "cell_type": "markdown",
   "id": "18e804ea-2e1c-47b9-a39c-b4d7a4ae38bf",
   "metadata": {},
   "source": [
    "#### The best one is learning rate=0.05, n estimators=128, max depth=6"
   ]
  },
  {
   "cell_type": "code",
   "execution_count": 21,
   "id": "99f597eb-bb97-4023-bd63-07c991bb480d",
   "metadata": {},
   "outputs": [
    {
     "name": "stdout",
     "output_type": "stream",
     "text": [
      "AUC for final model: 0.8122002653549214\n"
     ]
    }
   ],
   "source": [
    "gb_clf = GradientBoostingClassifier(learning_rate=0.05, n_estimators=128, max_depth=6)\n",
    "gb_clf.fit(X_train, y_train)\n",
    "y_score_gb = gb_clf.predict_proba(X_test)[:,1]\n",
    "auc = metrics.roc_auc_score(y_test, y_score_gb)\n",
    "print(f\"AUC for final model: {auc}\")"
   ]
  },
  {
   "cell_type": "markdown",
   "id": "024a3696-8fa6-451a-854b-d57b137aff8d",
   "metadata": {},
   "source": [
    "#### Baseline model with default values for RandomForestClassifier"
   ]
  },
  {
   "cell_type": "code",
   "execution_count": 23,
   "id": "8a82e928-d0d9-4f91-bf64-08e759baa157",
   "metadata": {},
   "outputs": [
    {
     "name": "stdout",
     "output_type": "stream",
     "text": [
      "AUC for baseline model: 0.7784619762658872\n"
     ]
    }
   ],
   "source": [
    "rf_clf = RandomForestClassifier()\n",
    "rf_clf.fit(X_train,y_train)\n",
    "y_score_rf = rf_clf.predict_proba(X_test)[:,1]\n",
    "auc = metrics.roc_auc_score(y_test, y_score_rf)\n",
    "print(f\"AUC for baseline model: {auc}\")"
   ]
  },
  {
   "cell_type": "markdown",
   "id": "bd01d0d5-8dc1-4a06-b9c7-a5fc414dc468",
   "metadata": {},
   "source": [
    "#### the baseline model of GB is better than the baseline model of RF, so lets choose the GB model"
   ]
  },
  {
   "cell_type": "markdown",
   "id": "af473245-f906-42d9-8de5-0c80640db4c9",
   "metadata": {},
   "source": [
    "##### JOBLIB"
   ]
  },
  {
   "cell_type": "code",
   "execution_count": 24,
   "id": "48b6dbfc-e4b1-47ab-92d7-02252da93610",
   "metadata": {},
   "outputs": [],
   "source": [
    "import joblib"
   ]
  },
  {
   "cell_type": "code",
   "execution_count": 25,
   "id": "fecc8889-4b1e-4467-96a4-6ef2097c544d",
   "metadata": {},
   "outputs": [
    {
     "data": {
      "text/plain": [
       "['GradientBoostingClassifier']"
      ]
     },
     "execution_count": 25,
     "metadata": {},
     "output_type": "execute_result"
    }
   ],
   "source": [
    "joblib.dump(gb_clf, 'GradientBoostingClassifier')"
   ]
  }
 ],
 "metadata": {
  "kernelspec": {
   "display_name": "Python 3 (ipykernel)",
   "language": "python",
   "name": "python3"
  },
  "language_info": {
   "codemirror_mode": {
    "name": "ipython",
    "version": 3
   },
   "file_extension": ".py",
   "mimetype": "text/x-python",
   "name": "python",
   "nbconvert_exporter": "python",
   "pygments_lexer": "ipython3",
   "version": "3.10.6"
  }
 },
 "nbformat": 4,
 "nbformat_minor": 5
}
